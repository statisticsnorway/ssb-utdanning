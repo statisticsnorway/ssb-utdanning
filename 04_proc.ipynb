{
 "cells": [
  {
   "cell_type": "code",
   "execution_count": null,
   "id": "ac890db4",
   "metadata": {},
   "outputs": [],
   "source": [
    "#export\n",
    "import pandas as pd"
   ]
  },
  {
   "cell_type": "code",
   "execution_count": null,
   "id": "07b8e423",
   "metadata": {},
   "outputs": [],
   "source": [
    "#export\n",
    "#stubdata\n",
    "df = pd.DataFrame(\n",
    "    [[\"143612748\",\t\"11.070\",\t\"03\", \t\"Oslo\", \t\"66\"],\n",
    "    [\"341274090\",\t\"10.130\",\t\"02\",\t\"Akershus(-2019)\"\t\"53\"],\n",
    "    [\"884412708\",\t\"10.920\",\t\"03\",\t\"Oslo\",\t\"59\"],\n",
    "    [\"595597122\",\t\"46.693\",   \"12\",\t\"Hordaland (-2019)\",\t\"50\"],\n",
    "    [\"084588991\",\t\"09.900\",\t\"02\",\t\"Akershus (-2019)\",\t\"100\"]],\n",
    "    columns = [\"work_id\",\t\"nace\",\t\"region_code\",\t\"region\",\t\"employee_points\"]\n",
    ")"
   ]
  },
  {
   "cell_type": "code",
   "execution_count": null,
   "id": "85d59d16",
   "metadata": {},
   "outputs": [],
   "source": [
    "# default_exp proc"
   ]
  },
  {
   "cell_type": "code",
   "execution_count": null,
   "id": "6c6ed30b",
   "metadata": {},
   "outputs": [],
   "source": [
    "#hide\n",
    "# \"Hide\" blir ikke med i hverken eksportert modul eller dokumentasjonen\n",
    "from nbdev.showdoc import *"
   ]
  },
  {
   "cell_type": "markdown",
   "id": "61a8404c",
   "metadata": {},
   "source": [
    "# SAS-ish functions\n",
    "\n",
    "> Mimic some of the missed functionality from SAS"
   ]
  },
  {
   "cell_type": "markdown",
   "id": "16f18464",
   "metadata": {},
   "source": [
    "### FREQ\n",
    "https://medium.com/eduonline24/can-we-get-sas-proc-freq-with-python-c6af752f387a"
   ]
  },
  {
   "cell_type": "code",
   "execution_count": null,
   "id": "68948998",
   "metadata": {},
   "outputs": [],
   "source": [
    "# FREQ\n",
    "# \"Missing\"?\n",
    "# Verbose"
   ]
  },
  {
   "cell_type": "code",
   "execution_count": null,
   "id": "80020caf",
   "metadata": {},
   "outputs": [],
   "source": [
    "#export\n",
    "from IPython.display import display\n",
    "\n",
    "def freq(df, cols = [], order = 'data', nopercent = False, nocum = False, freq_limit = 0):\n",
    "    \n",
    "    \"\"\"\n",
    "    This function tries to mimic some of the functionality of \"PROC FREQ\" from SAS.\\n\n",
    "    When using crosstab, by using an asterix in a string 'col1*col2', only frequencies are included.\\n\n",
    "    You may use numbers for columns, even negative ones, with an asterix. For example: cols = 'col1*-1', for the column \"col1\" crosstabbed with the last column.\n",
    "    \n",
    "    \n",
    "    Parameters\n",
    "    ----------\n",
    "    first \"df\" : dataframe\\n\n",
    "        Send in the pandas dataframe you want to analyze.\n",
    "    second \"cols\" : string, int or list of ints and or strings\\n\n",
    "        Strings may also contain an asterisk '*' between two column-names / ints. To create crosstabs of two columns.\n",
    "        A list of several strings / ints, will generate multiple frequency-tables from the same dataframe and \n",
    "    third \"order\" : string\\n\n",
    "        Only possible alternative to the default 'data' is currently 'freq', actually, if passed anything other than 'data', it will sort by frequency.\n",
    "    fourth \"nopercent\" : bool\\n\n",
    "        Will remove the columns 'Percent' and 'Cumulative Percent' if True\n",
    "    fifth \"nocum\" : bool\\n\n",
    "        Will remove the columns 'Cumulative Frequency' and 'Cumulative Percent' if True\n",
    "    sixth \"freq_limit\" : int \\n\n",
    "        Lower limit for frequency-rows in non-crosstabbed tables. It will remove rows with frequency values below this.\n",
    "\n",
    "    Returns\n",
    "    -------\n",
    "    None\\n\n",
    "        Only displays the frequency tables, does not return a dataframe.\n",
    "\n",
    "    Raises\n",
    "    ------\n",
    "    ValueError\\n\n",
    "        If no cols-parameter is specified.\n",
    "    \"\"\"  \n",
    "    \n",
    "    \n",
    "    # Make a copy of the dataframe, not to mess it up\n",
    "    dft = df.copy()\n",
    "    \n",
    "    # We need to know which tables to look at\n",
    "    # 0 alone is a valid input, but not empty strings or lists\n",
    "    if not cols and cols != 0:\n",
    "        raise ValueError('Please pass a \"cols\" parameter witht he columns youd like to take a look at.')\n",
    "    \n",
    "    # Convert cols to list, if its a string\n",
    "    cols = [cols] if isinstance(cols, str) or isinstance(cols, int) else cols\n",
    "    \n",
    "    # Loop over all the cols you want\n",
    "    for col in cols:\n",
    "        #print(col)\n",
    "        # If int try to get that numbered column\n",
    "        if isinstance(col, int):\n",
    "            col = dft.columns[col]\n",
    "        # If string, try to pick that column\n",
    "              \n",
    "        # What if there is a star in the string?   \n",
    "        if col.find('*') !=-1 :\n",
    "            \n",
    "            # Clean up ints / strings on their way in with asteriks\n",
    "            col0 = col.split('*')[0]\n",
    "            try:\n",
    "                col0 = int(col0)\n",
    "                if col0 < 0: col0 = dft.shape[1] - col0 - 2 \n",
    "                col0 = dft.columns[col0]\n",
    "            except:\n",
    "                ...\n",
    "            \n",
    "            col1 = col.split('*')[1]\n",
    "            try:\n",
    "                col1 = int(col1)\n",
    "                if col1 < 0: col1 = dft.shape[1] - col1 - 2\n",
    "                col1 = dft.columns[col1]\n",
    "            except:\n",
    "                ...\n",
    "            \n",
    "            # Print\n",
    "            print(col0, '*', col1)\n",
    "            \n",
    "            # Crosstab-function\n",
    "            datab = pd.crosstab(dft[col0], dft[col1], margins=True, margins_name=\"Total\")\n",
    "            \n",
    "            display(datab)\n",
    "            # We will exit here if crosstab, since it becomes too complicated otherwise?\n",
    "            \n",
    "        else:\n",
    "            dfts = dft[col]\n",
    "\n",
    "            datax = dfts.value_counts()\n",
    "            if order == 'data': \n",
    "                datax = datax.sort_index()\n",
    "            datay = pd.DataFrame({\n",
    "                    col: datax.index,\n",
    "                    'Frequency': datax.values,\n",
    "                    'Percent': ((datax.values/datax.values.sum())*100).round(2),\n",
    "                    'Cumulative Frequency': datax.values.cumsum(),\n",
    "                    'Cumulative Percent': ((datax.values.cumsum()/datax.values.sum())*100).round(2)\n",
    "                    })\n",
    "            \n",
    "            if nopercent:\n",
    "                datay = datay.drop('Percent', axis = 1)\n",
    "            if nocum:\n",
    "                datay = datay.drop('Cumulative Frequency', axis = 1)\n",
    "            if nocum or nopercent:\n",
    "                datay = datay.drop('Cumulative Percent', axis = 1)\n",
    "            \n",
    "            if freq_limit and isinstance(freq_limit, int):\n",
    "                datay = datay[datay['Frequency'] >= freq_limit]\n",
    "            \n",
    "            display(datay.style.hide_index())\n",
    "    \n",
    "    return None"
   ]
  },
  {
   "cell_type": "code",
   "execution_count": null,
   "id": "979d765e",
   "metadata": {},
   "outputs": [],
   "source": [
    "#dapla\n",
    "# Example usage at SSB\n",
    "import dapla as dp\n",
    "df = dp.read_pandas('/felles/mock_sysselsatte/companies_2020_10000')"
   ]
  },
  {
   "cell_type": "code",
   "execution_count": null,
   "id": "e294f157",
   "metadata": {},
   "outputs": [
    {
     "name": "stdout",
     "output_type": "stream",
     "text": [
      "employee_points\n",
      "nace\n",
      "region\n",
      "region_code\n",
      "work_id\n"
     ]
    }
   ],
   "source": [
    "for col in sorted(list(df.columns)): print(col)"
   ]
  },
  {
   "cell_type": "code",
   "execution_count": null,
   "id": "0a925880",
   "metadata": {},
   "outputs": [
    {
     "data": {
      "text/html": [
       "<style  type=\"text/css\" >\n",
       "</style><table id=\"T_1a4cd_\" ><thead>    <tr>        <th class=\"col_heading level0 col0\" >employee_points</th>        <th class=\"col_heading level0 col1\" >Frequency</th>        <th class=\"col_heading level0 col2\" >Percent</th>        <th class=\"col_heading level0 col3\" >Cumulative Frequency</th>        <th class=\"col_heading level0 col4\" >Cumulative Percent</th>    </tr></thead><tbody>\n",
       "                <tr>\n",
       "                                <td id=\"T_1a4cd_row0_col0\" class=\"data row0 col0\" >100</td>\n",
       "                        <td id=\"T_1a4cd_row0_col1\" class=\"data row0 col1\" >1</td>\n",
       "                        <td id=\"T_1a4cd_row0_col2\" class=\"data row0 col2\" >25.000000</td>\n",
       "                        <td id=\"T_1a4cd_row0_col3\" class=\"data row0 col3\" >1</td>\n",
       "                        <td id=\"T_1a4cd_row0_col4\" class=\"data row0 col4\" >25.000000</td>\n",
       "            </tr>\n",
       "            <tr>\n",
       "                                <td id=\"T_1a4cd_row1_col0\" class=\"data row1 col0\" >50</td>\n",
       "                        <td id=\"T_1a4cd_row1_col1\" class=\"data row1 col1\" >1</td>\n",
       "                        <td id=\"T_1a4cd_row1_col2\" class=\"data row1 col2\" >25.000000</td>\n",
       "                        <td id=\"T_1a4cd_row1_col3\" class=\"data row1 col3\" >2</td>\n",
       "                        <td id=\"T_1a4cd_row1_col4\" class=\"data row1 col4\" >50.000000</td>\n",
       "            </tr>\n",
       "            <tr>\n",
       "                                <td id=\"T_1a4cd_row2_col0\" class=\"data row2 col0\" >59</td>\n",
       "                        <td id=\"T_1a4cd_row2_col1\" class=\"data row2 col1\" >1</td>\n",
       "                        <td id=\"T_1a4cd_row2_col2\" class=\"data row2 col2\" >25.000000</td>\n",
       "                        <td id=\"T_1a4cd_row2_col3\" class=\"data row2 col3\" >3</td>\n",
       "                        <td id=\"T_1a4cd_row2_col4\" class=\"data row2 col4\" >75.000000</td>\n",
       "            </tr>\n",
       "            <tr>\n",
       "                                <td id=\"T_1a4cd_row3_col0\" class=\"data row3 col0\" >66</td>\n",
       "                        <td id=\"T_1a4cd_row3_col1\" class=\"data row3 col1\" >1</td>\n",
       "                        <td id=\"T_1a4cd_row3_col2\" class=\"data row3 col2\" >25.000000</td>\n",
       "                        <td id=\"T_1a4cd_row3_col3\" class=\"data row3 col3\" >4</td>\n",
       "                        <td id=\"T_1a4cd_row3_col4\" class=\"data row3 col4\" >100.000000</td>\n",
       "            </tr>\n",
       "    </tbody></table>"
      ],
      "text/plain": [
       "<pandas.io.formats.style.Styler at 0x7ff6b9d5d280>"
      ]
     },
     "metadata": {},
     "output_type": "display_data"
    }
   ],
   "source": [
    "#dapla\n",
    "# Freq of last column\n",
    "freq(df, -1)"
   ]
  },
  {
   "cell_type": "code",
   "execution_count": null,
   "id": "f05d4176",
   "metadata": {},
   "outputs": [],
   "source": [
    "#dapla\n",
    "# Cross table of 'employee_points' and 'the first column'\n",
    "freq(df, cols = 'employee_points*0')"
   ]
  },
  {
   "cell_type": "code",
   "execution_count": null,
   "id": "a88bcc81",
   "metadata": {},
   "outputs": [
    {
     "data": {
      "text/html": [
       "<style  type=\"text/css\" >\n",
       "</style><table id=\"T_22c1433c_8890_11eb_93b8_a6bdb2ccfbca\" ><thead>    <tr>        <th class=\"col_heading level0 col0\" >employee_points</th>        <th class=\"col_heading level0 col1\" >Frequency</th>    </tr></thead><tbody>\n",
       "                <tr>\n",
       "                                <td id=\"T_22c1433c_8890_11eb_93b8_a6bdb2ccfbcarow0_col0\" class=\"data row0 col0\" >1</td>\n",
       "                        <td id=\"T_22c1433c_8890_11eb_93b8_a6bdb2ccfbcarow0_col1\" class=\"data row0 col1\" >31</td>\n",
       "            </tr>\n",
       "            <tr>\n",
       "                                <td id=\"T_22c1433c_8890_11eb_93b8_a6bdb2ccfbcarow1_col0\" class=\"data row1 col0\" >3</td>\n",
       "                        <td id=\"T_22c1433c_8890_11eb_93b8_a6bdb2ccfbcarow1_col1\" class=\"data row1 col1\" >46</td>\n",
       "            </tr>\n",
       "            <tr>\n",
       "                                <td id=\"T_22c1433c_8890_11eb_93b8_a6bdb2ccfbcarow2_col0\" class=\"data row2 col0\" >4</td>\n",
       "                        <td id=\"T_22c1433c_8890_11eb_93b8_a6bdb2ccfbcarow2_col1\" class=\"data row2 col1\" >43</td>\n",
       "            </tr>\n",
       "            <tr>\n",
       "                                <td id=\"T_22c1433c_8890_11eb_93b8_a6bdb2ccfbcarow3_col0\" class=\"data row3 col0\" >8</td>\n",
       "                        <td id=\"T_22c1433c_8890_11eb_93b8_a6bdb2ccfbcarow3_col1\" class=\"data row3 col1\" >30</td>\n",
       "            </tr>\n",
       "    </tbody></table>"
      ],
      "text/plain": [
       "<pandas.io.formats.style.Styler at 0x7fa0014dd8e0>"
      ]
     },
     "metadata": {},
     "output_type": "display_data"
    }
   ],
   "source": [
    "#dapla\n",
    "# Minimal return\n",
    "freq(df, cols = ['employee_points'], \n",
    "     # No Percent column\n",
    "     nopercent = True, \n",
    "     # No Cumulative Freq\n",
    "     nocum = True, \n",
    "     # Either of the ones above will remove the \"cumulative percent\" column\n",
    "     # Lower limit of frequencies to show\n",
    "     freq_limit = 30)"
   ]
  }
 ],
 "metadata": {
  "kernelspec": {
   "display_name": "Python 3",
   "language": "python",
   "name": "python3"
  }
 },
 "nbformat": 4,
 "nbformat_minor": 5
}
