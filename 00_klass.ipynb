{
 "cells": [
  {
   "cell_type": "code",
   "execution_count": null,
   "metadata": {},
   "outputs": [],
   "source": [
    "# default_exp klass"
   ]
  },
  {
   "cell_type": "markdown",
   "metadata": {},
   "source": [
    "# KLASS-funksjoner\n",
    "\n",
    "> Metoder og funksjoner for å interagere med KLASS"
   ]
  },
  {
   "cell_type": "code",
   "execution_count": null,
   "metadata": {},
   "outputs": [],
   "source": [
    "#hide\n",
    "# \"Hide\" blir ikke med i hverken eksportert modul eller dokumentasjonen\n",
    "from nbdev.showdoc import *"
   ]
  },
  {
   "cell_type": "code",
   "execution_count": null,
   "metadata": {},
   "outputs": [],
   "source": [
    "#export\n",
    "# Med \"export\"-kommentaren over så blir koden med i både modulen som eksporteres og dokumentasjonen.\n",
    "def get_pandas(URL, level):\n",
    "    import requests, json, pandas as pd\n",
    "    r = requests.get(URL)\n",
    "    r = r.content.decode('utf8').replace(\"'\", '\"')\n",
    "    r = json.loads(r)\n",
    "    r = pd.json_normalize(r[level])\n",
    "    return r"
   ]
  },
  {
   "cell_type": "markdown",
   "metadata": {},
   "source": [
    "### Vi kan så bruke denne funksjonen for å hente de gjeldende fylkene i ID 1158"
   ]
  },
  {
   "cell_type": "code",
   "execution_count": null,
   "metadata": {},
   "outputs": [],
   "source": [
    "# Uten noen \"kommentar\"-kode så blir koden kun med i dokumentasjonen, ikke modulen\n",
    "gjeld_fylke = get_pandas('http://data.ssb.no/api/klass/v1/versions/1158', 'classificationItems')\n",
    "gjeld_fylke"
   ]
  },
  {
   "cell_type": "markdown",
   "metadata": {},
   "source": [
    "### \"exports\"-kommentar-koden (med s) oppfører seg litt annerledes enn \"export\""
   ]
  },
  {
   "cell_type": "code",
   "execution_count": null,
   "metadata": {},
   "outputs": [],
   "source": [
    "#exports"
   ]
  },
  {
   "cell_type": "code",
   "execution_count": null,
   "metadata": {},
   "outputs": [],
   "source": [
    "# Pytest?"
   ]
  }
 ],
 "metadata": {
  "kernelspec": {
   "display_name": "Python 3",
   "language": "python",
   "name": "python3"
  }
 },
 "nbformat": 4,
 "nbformat_minor": 4
}
