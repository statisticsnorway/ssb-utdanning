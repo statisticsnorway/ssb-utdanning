{
 "cells": [
  {
   "cell_type": "code",
   "execution_count": null,
   "metadata": {},
   "outputs": [],
   "source": [
    "# default_exp klass"
   ]
  },
  {
   "cell_type": "markdown",
   "metadata": {},
   "source": [
    "# KLASS-funksjoner\n",
    "\n",
    "> Metoder og funksjoner for å interagere med KLASS"
   ]
  },
  {
   "cell_type": "code",
   "execution_count": null,
   "metadata": {},
   "outputs": [],
   "source": [
    "#hide\n",
    "# \"Hide\" blir ikke med i hverken eksportert modul eller dokumentasjonen\n",
    "from nbdev.showdoc import *"
   ]
  },
  {
   "cell_type": "code",
   "execution_count": null,
   "metadata": {},
   "outputs": [],
   "source": [
    "#export\n",
    "# Med \"exports\"-kommentaren over så blir koden med i både modulen som eksporteres og dokumentasjonen.\n",
    "# Med \"export\"- kommentaren blir ikke kildekoden med i docsene\n",
    "def get_pandas(URL, level):\n",
    "    \"\"\"\n",
    "    Get pandas dataframe from the KLASS-API\n",
    "\n",
    "    Parameters\n",
    "    ----------\n",
    "    URL : str \\n\n",
    "        url to the API-endpoint you are interested in\n",
    "    level : str \\n\n",
    "        level of the json to convert, for example 'classificationItems' or 'correspondenceMaps'\n",
    "\n",
    "    Returns\n",
    "    -------\n",
    "    pandas.DataFrame() \\n\n",
    "        The returned json at the level requested, converted to a pandas dataframe\n",
    "\n",
    "    Further Development\n",
    "    -------\n",
    "    Error catching when \"level\" is not found in the returned json, show the top level json-keys then?\n",
    "\n",
    "    \"\"\"\n",
    "    import requests, json, pandas as pd\n",
    "    r = requests.get(URL)\n",
    "    r = r.content.decode('utf8').replace(\"'\", '\"')\n",
    "    r = json.loads(r)\n",
    "    r = pd.json_normalize(r[level])\n",
    "    return r"
   ]
  },
  {
   "cell_type": "markdown",
   "metadata": {},
   "source": [
    "### Vi kan så bruke denne funksjonen for å hente de gjeldende fylkene i ID 1158"
   ]
  },
  {
   "cell_type": "code",
   "execution_count": null,
   "metadata": {},
   "outputs": [],
   "source": [
    "# Uten noen \"kommentar\"-kode så blir koden kun med i dokumentasjonen, ikke modulen\n",
    "gjeld_fylke = get_pandas('http://data.ssb.no/api/klass/v1/versions/1158', 'classificationItems')\n",
    "gjeld_fylke"
   ]
  },
  {
   "cell_type": "code",
   "execution_count": null,
   "metadata": {},
   "outputs": [],
   "source": [
    "# Pytest?"
   ]
  }
 ],
 "metadata": {
  "kernelspec": {
   "display_name": "Python 3",
   "language": "python",
   "name": "python3"
  }
 },
 "nbformat": 4,
 "nbformat_minor": 4
}
