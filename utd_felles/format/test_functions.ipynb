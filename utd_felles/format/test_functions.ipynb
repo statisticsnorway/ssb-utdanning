{
 "cells": [
  {
   "cell_type": "code",
   "execution_count": null,
   "id": "a852da9a-716d-4882-b3b3-7375ab3204ad",
   "metadata": {
    "tags": []
   },
   "outputs": [],
   "source": [
    "import get_formats"
   ]
  },
  {
   "cell_type": "code",
   "execution_count": null,
   "id": "c6dc2b55-aa6b-4e55-a32b-dfd9e5db6a9b",
   "metadata": {
    "tags": []
   },
   "outputs": [],
   "source": [
    "df_info = get_formats.info_stored_formats()\n",
    "df_info[df_info[\"name\"] == \"eierf\"]"
   ]
  },
  {
   "cell_type": "code",
   "execution_count": null,
   "id": "a9407778-2399-4e94-b448-fd24a9be1775",
   "metadata": {
    "tags": []
   },
   "outputs": [],
   "source": [
    "get_formats.get_path(\"eierf\")"
   ]
  },
  {
   "cell_type": "code",
   "execution_count": null,
   "id": "5c499adb-aa23-4369-b084-efa52fed2168",
   "metadata": {
    "tags": []
   },
   "outputs": [],
   "source": [
    "eierf = get_formats.get_format(\"eierf\", \"2023-12-08\")\n",
    "eierf"
   ]
  },
  {
   "cell_type": "code",
   "execution_count": null,
   "id": "522d05e8-900a-49fa-b918-bdec11bc1625",
   "metadata": {
    "tags": []
   },
   "outputs": [],
   "source": [
    "eierf[\"ikke nøkkel\"]"
   ]
  },
  {
   "cell_type": "code",
   "execution_count": null,
   "id": "ce1908ee-ca6e-49a0-8db5-0bcab1bc673b",
   "metadata": {
    "tags": []
   },
   "outputs": [],
   "source": [
    "import pandas as pd\n",
    "eierf[pd.NA]"
   ]
  },
  {
   "cell_type": "code",
   "execution_count": null,
   "id": "c2b3f0a7-197e-4838-9ab7-30a83b73399b",
   "metadata": {
    "tags": []
   },
   "outputs": [],
   "source": [
    "eierf[\"ikke finnes\"]"
   ]
  },
  {
   "cell_type": "code",
   "execution_count": null,
   "id": "868fb5d0-3549-4e03-9b11-cf691f4ef46e",
   "metadata": {},
   "outputs": [],
   "source": []
  }
 ],
 "metadata": {
  "language_info": {
   "codemirror_mode": {
    "name": "ipython"
   },
   "file_extension": ".py",
   "mimetype": "text/x-python",
   "name": "python",
   "nbconvert_exporter": "python"
  }
 },
 "nbformat": 4,
 "nbformat_minor": 5
}
