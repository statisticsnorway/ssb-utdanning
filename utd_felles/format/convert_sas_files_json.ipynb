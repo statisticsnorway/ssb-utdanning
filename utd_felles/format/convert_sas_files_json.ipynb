{
 "cells": [
  {
   "cell_type": "code",
   "execution_count": null,
   "id": "f1a5bc96-0744-4aab-b844-1d1dd3e6588b",
   "metadata": {
    "tags": []
   },
   "outputs": [],
   "source": [
    "import os\n",
    "import re\n",
    "import datetime\n",
    "import json"
   ]
  },
  {
   "cell_type": "code",
   "execution_count": null,
   "id": "7a79c8ea-076b-4e3c-ae36-fd25fb9b9176",
   "metadata": {
    "tags": []
   },
   "outputs": [],
   "source": [
    "sas_files_path = \"old_sas_programs\""
   ]
  },
  {
   "cell_type": "code",
   "execution_count": null,
   "id": "8f0d542d-3b75-49d8-94ad-a8c858639d38",
   "metadata": {
    "tags": []
   },
   "outputs": [],
   "source": [
    "formats = {}\n",
    "for file in os.listdir(sas_files_path):\n",
    "    #print(file)\n",
    "    with open(sas_files_path + \"/\" + file, \"r\", encoding=\"latin1\") as sas_file:\n",
    "        content = sas_file.read()\n",
    "    for proc_step in content.split(\"proc format;\")[1:]:\n",
    "        proc_step = proc_step.split(\"run;\")[0]\n",
    "        for value_part in proc_step.split(\"value \")[1:]:\n",
    "            value_part = value_part.split(\";\")[0]\n",
    "            value_part = re.sub(re.compile(\"/\\*.*?\\*/\",re.DOTALL ) ,\"\" , value_part)\n",
    "            format_content = {}\n",
    "            for line in value_part.split(\"\\n\"):\n",
    "                line = line.strip(\" \")\n",
    "                #print(line)\n",
    "                if line.startswith(\"$\") or \"=\" not in line and line:\n",
    "                    format_name = line[1:]\n",
    "                elif not line:\n",
    "                    pass\n",
    "                else:\n",
    "                    try:\n",
    "                        key = line.split(\"=\")[0].strip(\" '\").strip('\"')\n",
    "                        value = line.split(\"=\")[1].strip(\" '\").strip('\"')\n",
    "                        format_content[key] = value\n",
    "                    except Exception as e:\n",
    "                        print(file, value_part, line)\n",
    "                        raise e\n",
    "            formats[format_name] = format_content"
   ]
  },
  {
   "cell_type": "code",
   "execution_count": null,
   "id": "eae5954b-261f-4a78-99f7-f325cb21a732",
   "metadata": {
    "tags": []
   },
   "outputs": [],
   "source": [
    "now = datetime.datetime.now().isoformat(\"T\", \"seconds\")\n",
    "now"
   ]
  },
  {
   "cell_type": "code",
   "execution_count": null,
   "id": "ab9d7249-970b-4f9f-b7db-bb77ebefa13f",
   "metadata": {
    "tags": []
   },
   "outputs": [],
   "source": [
    "for format_name, format_content in formats.items():\n",
    "    with open(f\"json_temp/{format_name}_{now}.json\", \"w\") as json_file:\n",
    "        json.dump(format_content, json_file)"
   ]
  },
  {
   "cell_type": "code",
   "execution_count": null,
   "id": "23b7b438-7354-4865-9c59-1f612a0f23dd",
   "metadata": {},
   "outputs": [],
   "source": []
  }
 ],
 "metadata": {
  "language_info": {
   "codemirror_mode": {
    "name": "ipython"
   },
   "file_extension": ".py",
   "mimetype": "text/x-python",
   "name": "python",
   "nbconvert_exporter": "python"
  }
 },
 "nbformat": 4,
 "nbformat_minor": 5
}
