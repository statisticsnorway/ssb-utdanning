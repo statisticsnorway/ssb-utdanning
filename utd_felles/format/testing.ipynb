{
 "cells": [
  {
   "cell_type": "code",
   "execution_count": null,
   "id": "7169c4cd-754d-4f36-bb24-194d33ab18f8",
   "metadata": {
    "tags": []
   },
   "outputs": [],
   "source": [
    "from UtdFormat import UtdFormat\n",
    "import pandas as pd"
   ]
  },
  {
   "cell_type": "code",
   "execution_count": null,
   "id": "69c16d87-2e0b-4319-a2d5-f176d0ae1a9f",
   "metadata": {
    "tags": []
   },
   "outputs": [],
   "source": [
    "kjoenn = UtdFormat({\"1\": \"Mann\",\n",
    "                    \"2\": \"Kvinne\",\n",
    "                    \"4-9\": \"TBA\",\n",
    "                    \"11-high\": \"Too high\",\n",
    "                    \"other\": \"Ukjent\",\n",
    "                    \".\": \"Data mangler\"})"
   ]
  },
  {
   "cell_type": "code",
   "execution_count": null,
   "id": "2c2e4b53-a4bd-44d2-b0d6-615738ade214",
   "metadata": {
    "tags": []
   },
   "outputs": [],
   "source": [
    "# Swaps missing values for each other\n",
    "kjoenn[None]"
   ]
  },
  {
   "cell_type": "code",
   "execution_count": null,
   "id": "bcc13b63-f363-4229-8862-c355e14ea161",
   "metadata": {
    "tags": []
   },
   "outputs": [],
   "source": [
    "# Catches floats inside ranges\n",
    "kjoenn[5.2]"
   ]
  },
  {
   "cell_type": "code",
   "execution_count": null,
   "id": "13ee89d5-9f8e-41b2-9cf1-5f0bc473adcf",
   "metadata": {
    "tags": []
   },
   "outputs": [],
   "source": [
    "# Using the \"high\" parameter\n",
    "kjoenn[200]"
   ]
  },
  {
   "cell_type": "code",
   "execution_count": null,
   "id": "5f3bd1c1-747a-480b-8b4d-66e8aafe13d2",
   "metadata": {
    "tags": []
   },
   "outputs": [],
   "source": [
    "# Smart enough to realize you mixed ints and strs\n",
    "kjoenn[2]"
   ]
  },
  {
   "cell_type": "code",
   "execution_count": null,
   "id": "e6922ea6-3060-406a-8332-bba14446e795",
   "metadata": {
    "tags": []
   },
   "outputs": [],
   "source": [
    "# Actual gap in the format\n",
    "kjoenn[\"10\"]"
   ]
  },
  {
   "cell_type": "code",
   "execution_count": null,
   "id": "c941eccc-9e76-4cdf-aaeb-9906cb4bed2b",
   "metadata": {
    "tags": []
   },
   "outputs": [],
   "source": [
    "kjoenn.ranges"
   ]
  },
  {
   "cell_type": "code",
   "execution_count": null,
   "id": "eb1cd4ea-376d-458d-96cb-f5e1609600c8",
   "metadata": {},
   "outputs": [],
   "source": []
  }
 ],
 "metadata": {
  "language_info": {
   "codemirror_mode": {
    "name": "ipython"
   },
   "file_extension": ".py",
   "mimetype": "text/x-python",
   "name": "python",
   "nbconvert_exporter": "python"
  }
 },
 "nbformat": 4,
 "nbformat_minor": 5
}
