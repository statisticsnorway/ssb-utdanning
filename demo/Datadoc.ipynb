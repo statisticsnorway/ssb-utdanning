{
 "cells": [
  {
   "cell_type": "code",
   "execution_count": null,
   "id": "06178854-80f3-4a13-a389-02e191635d73",
   "metadata": {},
   "outputs": [],
   "source": [
    "from datadoc import main"
   ]
  },
  {
   "cell_type": "code",
   "execution_count": null,
   "id": "099957b5-5fcf-4f0a-a851-b75cc2928bfd",
   "metadata": {},
   "outputs": [],
   "source": [
    "main()"
   ]
  },
  {
   "cell_type": "code",
   "execution_count": null,
   "id": "a4f93a9c-059e-4d62-bc00-c530c5f20583",
   "metadata": {},
   "outputs": [],
   "source": []
  }
 ],
 "metadata": {
  "language_info": {
   "codemirror_mode": {
    "name": "ipython"
   },
   "file_extension": ".py",
   "mimetype": "text/x-python",
   "name": "python",
   "nbconvert_exporter": "python"
  }
 },
 "nbformat": 4,
 "nbformat_minor": 5
}
