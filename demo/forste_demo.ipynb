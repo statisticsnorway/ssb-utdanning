{
 "cells": [
  {
   "cell_type": "code",
   "execution_count": null,
   "id": "3f810af7-14c1-4f63-8074-3fbdc0560df2",
   "metadata": {
    "tags": []
   },
   "outputs": [],
   "source": [
    "import os"
   ]
  },
  {
   "cell_type": "code",
   "execution_count": null,
   "id": "7c3998d1-8579-4123-a87e-6c16a6d460ad",
   "metadata": {
    "tags": []
   },
   "outputs": [],
   "source": [
    "os.chdir(\"../\")"
   ]
  },
  {
   "cell_type": "code",
   "execution_count": null,
   "id": "128757f3-3d50-4f20-b20e-c5ce2abf2284",
   "metadata": {
    "tags": []
   },
   "outputs": [],
   "source": [
    "from utdanning_fellesfunksjoner.data import nudb"
   ]
  },
  {
   "cell_type": "code",
   "execution_count": null,
   "id": "49814111-74ad-449d-b814-dca66499d803",
   "metadata": {
    "tags": []
   },
   "outputs": [],
   "source": [
    "nudb.hent_nudb()"
   ]
  },
  {
   "cell_type": "code",
   "execution_count": null,
   "id": "308e8c8d-614f-4ed7-a8db-d7a825c35a6b",
   "metadata": {},
   "outputs": [],
   "source": []
  }
 ],
 "metadata": {
  "language_info": {
   "codemirror_mode": {
    "name": "ipython"
   },
   "file_extension": ".py",
   "mimetype": "text/x-python",
   "name": "python",
   "nbconvert_exporter": "python"
  }
 },
 "nbformat": 4,
 "nbformat_minor": 5
}
