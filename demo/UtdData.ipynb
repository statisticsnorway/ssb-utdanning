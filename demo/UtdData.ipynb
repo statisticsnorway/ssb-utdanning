{
 "cells": [
  {
   "cell_type": "code",
   "execution_count": null,
   "id": "c93cbd30-4072-4ba0-9dc0-ec3658b43829",
   "metadata": {},
   "outputs": [],
   "source": [
    "import pandas as pd\n",
    "from ssb_utdanning import UtdData"
   ]
  },
  {
   "cell_type": "code",
   "execution_count": null,
   "id": "9a0884a7-0d71-4031-9792-705df15e6a28",
   "metadata": {},
   "outputs": [],
   "source": [
    "path = \"/ssb/stamme01/utd/katalog/vigo/vigo_skole_testfil_slett_p2021_v1.parquet\""
   ]
  },
  {
   "cell_type": "code",
   "execution_count": null,
   "id": "099957b5-5fcf-4f0a-a851-b75cc2928bfd",
   "metadata": {
    "jupyter": {
     "outputs_hidden": true
    },
    "tags": []
   },
   "outputs": [],
   "source": [
    "vigoskole = UtdData(path)"
   ]
  },
  {
   "cell_type": "code",
   "execution_count": null,
   "id": "2bda1d36-1ba7-419a-affb-ef0d63f6a1df",
   "metadata": {
    "jupyter": {
     "source_hidden": true
    },
    "tags": []
   },
   "outputs": [],
   "source": [
    "for i, var in enumerate(vigoskole.metadata.variables):\n",
    "    vigoskole.metadata.variables[i].variable_role = \"ATTRIBUTE\""
   ]
  },
  {
   "cell_type": "code",
   "execution_count": null,
   "id": "a207206a-6032-4631-af21-0505a20e77c5",
   "metadata": {
    "tags": []
   },
   "outputs": [],
   "source": [
    "vigoskole.save(overwrite_mode=\"filebump\")"
   ]
  },
  {
   "cell_type": "code",
   "execution_count": null,
   "id": "2ecc2b2d-144e-4b51-ae93-2d586010dbb8",
   "metadata": {},
   "outputs": [],
   "source": []
  }
 ],
 "metadata": {
  "language_info": {
   "codemirror_mode": {
    "name": "ipython"
   },
   "file_extension": ".py",
   "mimetype": "text/x-python",
   "name": "python",
   "nbconvert_exporter": "python"
  }
 },
 "nbformat": 4,
 "nbformat_minor": 5
}
