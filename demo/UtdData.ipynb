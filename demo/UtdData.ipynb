{
 "cells": [
  {
   "cell_type": "code",
   "execution_count": null,
   "id": "c93cbd30-4072-4ba0-9dc0-ec3658b43829",
   "metadata": {},
   "outputs": [],
   "source": [
    "from ssb_utdanning import UtdData"
   ]
  },
  {
   "cell_type": "code",
   "execution_count": null,
   "id": "9a0884a7-0d71-4031-9792-705df15e6a28",
   "metadata": {},
   "outputs": [],
   "source": [
    "path = \"/ssb/stamme01/utd/katalog/vigo/vigo_skole_testfil_slett_p2021_v1.parquet\""
   ]
  },
  {
   "cell_type": "code",
   "execution_count": null,
   "id": "099957b5-5fcf-4f0a-a851-b75cc2928bfd",
   "metadata": {
    "tags": []
   },
   "outputs": [],
   "source": [
    "vigoskole = UtdData(path)"
   ]
  },
  {
   "cell_type": "code",
   "execution_count": null,
   "id": "2bda1d36-1ba7-419a-affb-ef0d63f6a1df",
   "metadata": {
    "jupyter": {
     "outputs_hidden": true,
     "source_hidden": true
    },
    "tags": []
   },
   "outputs": [],
   "source": [
    "for i, var in enumerate(vigoskole.metadata.variables):\n",
    "    vigoskole.metadata.variables[i].variable_role = \"Carl made dis\""
   ]
  },
  {
   "cell_type": "code",
   "execution_count": null,
   "id": "a207206a-6032-4631-af21-0505a20e77c5",
   "metadata": {
    "tags": []
   },
   "outputs": [],
   "source": [
    "vigoskole.save(overwrite_mode=\"filebump\")"
   ]
  },
  {
   "cell_type": "markdown",
   "id": "759696f6-cbd9-4286-bbbc-b7dea52b5618",
   "metadata": {},
   "source": [
    "### Should be possible to extend metadata in the future to hold \"custom_type\"."
   ]
  },
  {
   "cell_type": "code",
   "execution_count": null,
   "id": "99ca1d7c-cd0e-4968-8f88-a55d2c0c3ece",
   "metadata": {
    "tags": []
   },
   "outputs": [],
   "source": [
    "for i, var in enumerate(vigoskole.metadata.variables):\n",
    "    if var.short_name==\"SKOLENR\":\n",
    "        vigoskole.metadata.variables[i].custom_type = [{\"key\": \"utd_noekkel_rekkefolge\", \"value\": 1}]\n",
    "    if var.short_name==\"SKOLEIER\":\n",
    "        vigoskole.metadata.variables[i].custom_type = [{\"key\": \"utd_noekkel_rekkefolge\", \"value\": 2}]"
   ]
  },
  {
   "cell_type": "code",
   "execution_count": null,
   "id": "e6a713d8-418f-4d22-9b28-ce473868f18d",
   "metadata": {},
   "outputs": [],
   "source": []
  }
 ],
 "metadata": {
  "language_info": {
   "codemirror_mode": {
    "name": "ipython"
   },
   "file_extension": ".py",
   "mimetype": "text/x-python",
   "name": "python",
   "nbconvert_exporter": "python"
  }
 },
 "nbformat": 4,
 "nbformat_minor": 5
}
