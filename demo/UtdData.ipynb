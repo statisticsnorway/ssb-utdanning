{
 "cells": [
  {
   "cell_type": "code",
   "execution_count": null,
   "id": "0",
   "metadata": {
    "tags": []
   },
   "outputs": [],
   "source": [
    "from ssb_utdanning import UtdData"
   ]
  },
  {
   "cell_type": "code",
   "execution_count": null,
   "id": "1",
   "metadata": {},
   "outputs": [],
   "source": [
    "path = \"/ssb/stamme01/utd/katalog/vigo/vigo_skole_testfil_slett_p2021_v1.parquet\""
   ]
  },
  {
   "cell_type": "code",
   "execution_count": null,
   "id": "2",
   "metadata": {
    "tags": []
   },
   "outputs": [],
   "source": [
    "glob_pattern = \"/ssb/stamme01/utd/katalog/vigo/vigo_skole_testfil_slett_p*.parquet\""
   ]
  },
  {
   "cell_type": "code",
   "execution_count": null,
   "id": "3",
   "metadata": {
    "tags": []
   },
   "outputs": [],
   "source": [
    "vigoskole = UtdData(glob_pattern=glob_pattern)"
   ]
  },
  {
   "cell_type": "code",
   "execution_count": null,
   "id": "4",
   "metadata": {
    "tags": []
   },
   "outputs": [],
   "source": [
    "vigoskole.periods"
   ]
  },
  {
   "cell_type": "code",
   "execution_count": null,
   "id": "5",
   "metadata": {
    "tags": []
   },
   "outputs": [],
   "source": [
    "for i, var in enumerate(vigoskole.metadata.variables):\n",
    "    print(var)\n",
    "    vigoskole.metadata.variables[i].variable_role = \"Carl made dis\""
   ]
  },
  {
   "cell_type": "code",
   "execution_count": null,
   "id": "6",
   "metadata": {
    "tags": []
   },
   "outputs": [],
   "source": [
    "vigoskole.save(overwrite_mode=\"filebump\")"
   ]
  },
  {
   "cell_type": "markdown",
   "id": "7",
   "metadata": {},
   "source": [
    "### Should be possible to extend metadata in the future to hold \"custom_type\"."
   ]
  },
  {
   "cell_type": "code",
   "execution_count": null,
   "id": "8",
   "metadata": {
    "tags": []
   },
   "outputs": [],
   "source": [
    "for i, var in enumerate(vigoskole.metadata.variables):\n",
    "    if var.short_name==\"SKOLENR\":\n",
    "        vigoskole.metadata.variables[i].custom_type = [{\"key\": \"utd_noekkel_rekkefolge\", \"value\": 1}]\n",
    "    if var.short_name==\"SKOLEIER\":\n",
    "        vigoskole.metadata.variables[i].custom_type = [{\"key\": \"utd_noekkel_rekkefolge\", \"value\": 2}]"
   ]
  },
  {
   "cell_type": "code",
   "execution_count": null,
   "id": "9",
   "metadata": {},
   "outputs": [],
   "source": []
  }
 ],
 "metadata": {
  "language_info": {
   "codemirror_mode": {
    "name": "ipython"
   },
   "file_extension": ".py",
   "mimetype": "text/x-python",
   "name": "python",
   "nbconvert_exporter": "python"
  }
 },
 "nbformat": 4,
 "nbformat_minor": 5
}
