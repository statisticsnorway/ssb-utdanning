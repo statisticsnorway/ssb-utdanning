{
 "cells": [
  {
   "cell_type": "code",
   "execution_count": null,
   "id": "3e1dba62-7f92-4a24-bbfa-e72d183f5cfe",
   "metadata": {
    "tags": []
   },
   "outputs": [],
   "source": [
    "import os\n",
    "from datadoc.backend.datadoc_metadata import DataDocMetadata\n",
    "from datadoc.backend.statistic_subject_mapping import StatisticSubjectMapping"
   ]
  },
  {
   "cell_type": "code",
   "execution_count": null,
   "id": "388e54ff-d855-4457-a6c9-1b50caba9036",
   "metadata": {
    "tags": []
   },
   "outputs": [],
   "source": [
    "from pathlib import Path\n",
    "path = Path(\"/ssb/stamme01/utd/katalog/vigo/vigo_skole_testfil_slett_p2021_v1.parquet\")\n",
    "metapath = Path(\"/ssb/stamme01/utd/katalog/vigo/vigo_skole_testfil_slett_p2021_v1__DOC.json\")"
   ]
  },
  {
   "cell_type": "code",
   "execution_count": null,
   "id": "4aeb3f03-264b-4458-99fd-efd00c40d3ff",
   "metadata": {
    "tags": []
   },
   "outputs": [],
   "source": [
    "path.parent / (path.stem + \"__DOC.json\")"
   ]
  },
  {
   "cell_type": "code",
   "execution_count": null,
   "id": "26883005-87a5-489c-bde7-29f0b1b541db",
   "metadata": {
    "tags": []
   },
   "outputs": [],
   "source": [
    "os.environ.get(\"DATADOC_STATISTICAL_SUBJECT_SOURCE_URL\")"
   ]
  },
  {
   "cell_type": "code",
   "execution_count": null,
   "id": "1b6a411c-e36b-4d14-9fe6-0551b6778705",
   "metadata": {},
   "outputs": [],
   "source": []
  },
  {
   "cell_type": "code",
   "execution_count": null,
   "id": "046e0425-cc0d-4b42-b5cd-9dace753e00e",
   "metadata": {
    "tags": []
   },
   "outputs": [],
   "source": [
    "metadata = DataDocMetadata(StatisticSubjectMapping(\"\"),\n",
    "                           dataset_path=path,\n",
    "                           #metadata_document_path=metapath\n",
    "                          )"
   ]
  },
  {
   "cell_type": "code",
   "execution_count": null,
   "id": "332a89df-feee-4cc8-ad46-46507ea17832",
   "metadata": {
    "tags": []
   },
   "outputs": [],
   "source": [
    "for i, var in enumerate(metadata.variables):\n",
    "    if var.short_name == \"KOMMNR\":\n",
    "        print(var)\n",
    "        metadata.variables[i].temporality_type = \"Random shit\"\n",
    "    #print(var.__dict__)"
   ]
  },
  {
   "cell_type": "code",
   "execution_count": null,
   "id": "e9c85e29-3d89-4808-8f80-c65cd30a8817",
   "metadata": {
    "tags": []
   },
   "outputs": [],
   "source": [
    "metadata.write_metadata_document()"
   ]
  },
  {
   "cell_type": "code",
   "execution_count": null,
   "id": "279db122-3697-47bd-a707-b1b9c45682f0",
   "metadata": {
    "tags": []
   },
   "outputs": [],
   "source": [
    "metadata.metadata_document"
   ]
  },
  {
   "cell_type": "code",
   "execution_count": null,
   "id": "4d22a439-42ee-41fb-8331-dce9bfcd3049",
   "metadata": {},
   "outputs": [],
   "source": []
  }
 ],
 "metadata": {
  "language_info": {
   "codemirror_mode": {
    "name": "ipython"
   },
   "file_extension": ".py",
   "mimetype": "text/x-python",
   "name": "python",
   "nbconvert_exporter": "python"
  }
 },
 "nbformat": 4,
 "nbformat_minor": 5
}
