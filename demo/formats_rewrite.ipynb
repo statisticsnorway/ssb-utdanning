{
 "cells": [
  {
   "cell_type": "code",
   "execution_count": null,
   "id": "8303f3f7-d461-4eda-9304-ec28312ebc88",
   "metadata": {
    "tags": []
   },
   "outputs": [],
   "source": [
    "from utd_felles import get_format\n",
    "from utd_felles import info_stored_formats\n",
    "from utd_felles.format import store_format_prod"
   ]
  },
  {
   "cell_type": "markdown",
   "id": "fbe3ef8c-bfb1-488c-8ec6-f0e02294b776",
   "metadata": {},
   "source": [
    "### Lagre ett nytt format"
   ]
  },
  {
   "cell_type": "code",
   "execution_count": null,
   "id": "a23ee0ee-66e6-473e-9b2c-ac868fd70958",
   "metadata": {
    "tags": []
   },
   "outputs": [],
   "source": [
    "new_format = {\"new_format\": {\"other\": \"Resten\",  # Forårsaker en \"defaultdict\" ved åpning\n",
    "                            \"22-50\": \"Gamlinger\",  # Range generer mange keys ved åpning\n",
    "                            \".\": \"Tom verdi\",  # Inserter mange keys for \"tom verdi\" i dicten}\n",
    "                             \"23\": \"spesifikk gamling\",\n",
    "                            }}\n",
    "store_format_prod(new_format)"
   ]
  },
  {
   "cell_type": "markdown",
   "id": "e5a81552-f51a-494e-8138-b2a19531f0ea",
   "metadata": {
    "tags": []
   },
   "source": [
    "### Se på lagrede kopier av formatet"
   ]
  },
  {
   "cell_type": "code",
   "execution_count": null,
   "id": "5dc24bc1-53e1-47ba-9523-662076f1c3dc",
   "metadata": {
    "tags": []
   },
   "outputs": [],
   "source": [
    "df = info_stored_formats()\n",
    "df"
   ]
  },
  {
   "cell_type": "code",
   "execution_count": null,
   "id": "b28b49c9-4b1e-471d-819d-5d81fc52cc2c",
   "metadata": {
    "tags": []
   },
   "outputs": [],
   "source": [
    "new_format = get_format(\"new_format\")\n",
    "new_format"
   ]
  },
  {
   "cell_type": "code",
   "execution_count": null,
   "id": "58d38170-cef3-4cb6-8141-53651bee12fb",
   "metadata": {
    "tags": []
   },
   "outputs": [],
   "source": [
    "new_format[\"89-high\"] = \"Ekstremgamlinger\""
   ]
  },
  {
   "cell_type": "code",
   "execution_count": null,
   "id": "506d91ca-c2b2-4de8-ba39-a8a2a4804aa5",
   "metadata": {
    "tags": []
   },
   "outputs": [],
   "source": [
    "new_format.cached = False  # Stop storing actual new values in the dict"
   ]
  },
  {
   "cell_type": "code",
   "execution_count": null,
   "id": "1e4d9db1-068b-4eaa-b321-febe926c793b",
   "metadata": {
    "tags": []
   },
   "outputs": [],
   "source": [
    "new_format[2000]"
   ]
  },
  {
   "cell_type": "code",
   "execution_count": null,
   "id": "7aa48a76-c099-4767-94bf-0ab1c7876042",
   "metadata": {},
   "outputs": [],
   "source": [
    "new_format[None]"
   ]
  },
  {
   "cell_type": "code",
   "execution_count": null,
   "id": "ba23b00b-2b18-4d73-9b5b-7145d064a575",
   "metadata": {
    "tags": []
   },
   "outputs": [],
   "source": [
    "new_format[40]"
   ]
  },
  {
   "cell_type": "code",
   "execution_count": null,
   "id": "8e88490c-88d5-4b40-8f15-d0361a92cec1",
   "metadata": {
    "tags": []
   },
   "outputs": [],
   "source": [
    "new_format[1.5]"
   ]
  },
  {
   "cell_type": "code",
   "execution_count": null,
   "id": "46d4f3e6-d3ac-4fd8-bb35-7cbfe27ebc4a",
   "metadata": {
    "tags": []
   },
   "outputs": [],
   "source": [
    "new_format[11]"
   ]
  },
  {
   "cell_type": "code",
   "execution_count": null,
   "id": "25225068-6500-4172-8a25-735f83096159",
   "metadata": {
    "tags": []
   },
   "outputs": [],
   "source": [
    "import pandas as pd\n",
    "\n",
    "df = pd.DataFrame({\n",
    "    \"alder\": [1, 33, 23, \".\", pd.NA]\n",
    "})"
   ]
  },
  {
   "cell_type": "code",
   "execution_count": null,
   "id": "31c55edb-df2a-43ef-9f7d-ea3ed1ea1363",
   "metadata": {
    "tags": []
   },
   "outputs": [],
   "source": [
    "df[\"alder\"].map(new_format)"
   ]
  },
  {
   "cell_type": "code",
   "execution_count": null,
   "id": "d700edb3-5604-4555-af31-949caab5cc8d",
   "metadata": {
    "tags": []
   },
   "outputs": [],
   "source": [
    "# Siden den er cached, har den nå en del nye keys i seg\n",
    "new_format"
   ]
  },
  {
   "cell_type": "code",
   "execution_count": null,
   "id": "043e9b9a-8772-4119-9fc8-ff9986a5d719",
   "metadata": {
    "tags": []
   },
   "outputs": [],
   "source": [
    "# Siden den er cached, kaster vi en error under lagring, siden det er risiko for alt for mange keys\n",
    "new_format.store(\"new_format\")"
   ]
  },
  {
   "cell_type": "code",
   "execution_count": null,
   "id": "29aa2ccc-9f66-403b-85b9-48b0b40f2463",
   "metadata": {},
   "outputs": [],
   "source": []
  }
 ],
 "metadata": {
  "language_info": {
   "codemirror_mode": {
    "name": "ipython"
   },
   "file_extension": ".py",
   "mimetype": "text/x-python",
   "name": "python",
   "nbconvert_exporter": "python"
  }
 },
 "nbformat": 4,
 "nbformat_minor": 5
}
