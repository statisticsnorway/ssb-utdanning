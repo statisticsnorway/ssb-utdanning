{
 "cells": [
  {
   "cell_type": "code",
   "execution_count": null,
   "id": "8303f3f7-d461-4eda-9304-ec28312ebc88",
   "metadata": {
    "tags": []
   },
   "outputs": [],
   "source": [
    "from utd_felles.format import formats\n",
    "from utd_felles.format import get_formats\n",
    "from utd_felles.format import store_format"
   ]
  },
  {
   "cell_type": "markdown",
   "id": "fbe3ef8c-bfb1-488c-8ec6-f0e02294b776",
   "metadata": {},
   "source": [
    "### Lagre ett nytt format"
   ]
  },
  {
   "cell_type": "code",
   "execution_count": null,
   "id": "a23ee0ee-66e6-473e-9b2c-ac868fd70958",
   "metadata": {
    "tags": []
   },
   "outputs": [],
   "source": [
    "new_format = {\"new_format\": {\"other\": \"Resten\",  # Forårsaker en \"defaultdict\" ved åpning\n",
    "                            \"22-50\": \"Gamlinger\",  # Range generer mange keys ved åpning\n",
    "                            \".\": \"Tom verdi\",  # Inserter mange keys for \"tom verdi\" i dicten}\n",
    "                             \"23\": \"spesifikk gamling\",\n",
    "                            }}\n",
    "store_format.store_format_prod(new_format)"
   ]
  },
  {
   "cell_type": "markdown",
   "id": "e5a81552-f51a-494e-8138-b2a19531f0ea",
   "metadata": {
    "tags": []
   },
   "source": [
    "### Se på lagrede kopier av formatet"
   ]
  },
  {
   "cell_type": "code",
   "execution_count": null,
   "id": "5dc24bc1-53e1-47ba-9523-662076f1c3dc",
   "metadata": {
    "tags": []
   },
   "outputs": [],
   "source": [
    "df = formats.info_stored_formats(\"new_format\")\n",
    "df"
   ]
  },
  {
   "cell_type": "code",
   "execution_count": null,
   "id": "b28b49c9-4b1e-471d-819d-5d81fc52cc2c",
   "metadata": {
    "tags": []
   },
   "outputs": [],
   "source": [
    "get_formats.get_format(\"new_format\")"
   ]
  },
  {
   "cell_type": "code",
   "execution_count": null,
   "id": "7aa48a76-c099-4767-94bf-0ab1c7876042",
   "metadata": {},
   "outputs": [],
   "source": []
  }
 ],
 "metadata": {
  "language_info": {
   "codemirror_mode": {
    "name": "ipython"
   },
   "file_extension": ".py",
   "mimetype": "text/x-python",
   "name": "python",
   "nbconvert_exporter": "python"
  }
 },
 "nbformat": 4,
 "nbformat_minor": 5
}
