{
 "cells": [
  {
   "cell_type": "code",
   "execution_count": null,
   "id": "cc5a5d7b-d825-4129-aa3e-16e9024daffb",
   "metadata": {
    "tags": []
   },
   "outputs": [],
   "source": [
    "from utd_felles.format import sas_format_parsing"
   ]
  },
  {
   "cell_type": "code",
   "execution_count": null,
   "id": "5f2bba02-f8b8-41b0-8c02-cb104f1cffc1",
   "metadata": {
    "tags": []
   },
   "outputs": [],
   "source": [
    "sas_files_path = \"/ssb/bruker/cfc/utd-fellesfunksjoner-python/demo/fellesprog_formater/\""
   ]
  },
  {
   "cell_type": "code",
   "execution_count": null,
   "id": "c27d031d-d09a-4a8e-bbfd-a28f29419bb5",
   "metadata": {
    "tags": []
   },
   "outputs": [],
   "source": [
    "sas_format_parsing.batch_process_folder_sasfiles(sas_files_path)"
   ]
  },
  {
   "cell_type": "code",
   "execution_count": null,
   "id": "e53df836-3a02-486e-b119-f1649eab52a1",
   "metadata": {
    "tags": []
   },
   "outputs": [],
   "source": [
    "import glob\n",
    "\n",
    "for file in glob.glob(sas_files_path + \"*.sas\"):\n",
    "    print(file)"
   ]
  },
  {
   "cell_type": "code",
   "execution_count": null,
   "id": "dc13013b-6f94-4c00-9ad9-6925f2788499",
   "metadata": {},
   "outputs": [],
   "source": []
  }
 ],
 "metadata": {
  "language_info": {
   "codemirror_mode": {
    "name": "ipython"
   },
   "file_extension": ".py",
   "mimetype": "text/x-python",
   "name": "python",
   "nbconvert_exporter": "python"
  }
 },
 "nbformat": 4,
 "nbformat_minor": 5
}
