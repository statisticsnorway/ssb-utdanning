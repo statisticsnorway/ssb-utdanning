{
 "cells": [
  {
   "cell_type": "code",
   "execution_count": null,
   "id": "f9b4b16a-d2b0-45d3-85b8-5d7f0af1140d",
   "metadata": {
    "tags": []
   },
   "outputs": [],
   "source": [
    "import os\n",
    "os.chdir(\"../\")\n",
    "from utd_felles import UtdKatalog"
   ]
  },
  {
   "cell_type": "code",
   "execution_count": null,
   "id": "b58a64a3-067f-46a7-be95-ee38518b0c81",
   "metadata": {
    "tags": []
   },
   "outputs": [],
   "source": [
    "nuskat_parquet = \"/ssb/stamme01/utd_pii/nuskat/wk16/nus2000/carl_test/nus2000_carltest_v1.parquet\""
   ]
  },
  {
   "cell_type": "code",
   "execution_count": null,
   "id": "c841ab7f-9446-4d90-b3c8-480860c02323",
   "metadata": {
    "tags": []
   },
   "outputs": [],
   "source": [
    "nuskat = UtdKatalog(nuskat_parquet, \n",
    "                    \"nus2000\",\n",
    "                    #team=\"utd_vgu\",  #Do we get this for free now (stored in json)?\n",
    "                   )"
   ]
  },
  {
   "cell_type": "code",
   "execution_count": null,
   "id": "d3fae2e9-cae1-43f3-9f37-f94f5588b057",
   "metadata": {
    "tags": []
   },
   "outputs": [],
   "source": [
    "nuskat.path"
   ]
  },
  {
   "cell_type": "code",
   "execution_count": null,
   "id": "5f7c0a83-c5e5-4c6c-bad9-3167e3de7f22",
   "metadata": {
    "tags": []
   },
   "outputs": [],
   "source": [
    "# Should throw error if v2 already exists\n",
    "nuskat.save()"
   ]
  },
  {
   "cell_type": "code",
   "execution_count": null,
   "id": "63c7b656-8364-4e92-8cb3-4ab735ea0862",
   "metadata": {
    "tags": []
   },
   "outputs": [],
   "source": [
    "# Actually overwrite\n",
    "nuskat.save(existing_file=\"overwrite\")"
   ]
  },
  {
   "cell_type": "code",
   "execution_count": null,
   "id": "1f7fd8b4-6996-41b3-9d56-f35a2f5527ad",
   "metadata": {
    "tags": []
   },
   "outputs": [],
   "source": [
    "nuskat.path"
   ]
  },
  {
   "cell_type": "code",
   "execution_count": null,
   "id": "e6e927b7-2f33-468b-bbee-e632ade82a3c",
   "metadata": {
    "tags": []
   },
   "outputs": [],
   "source": [
    "# Should write to first available space\n",
    "nuskat.save(existing_file=\"filebump\")"
   ]
  },
  {
   "cell_type": "code",
   "execution_count": null,
   "id": "8a657ad4-a728-48dd-969c-d3b3206d11b3",
   "metadata": {},
   "outputs": [],
   "source": [
    "nuskat.path"
   ]
  }
 ],
 "metadata": {
  "language_info": {
   "codemirror_mode": {
    "name": "ipython"
   },
   "file_extension": ".py",
   "mimetype": "text/x-python",
   "name": "python",
   "nbconvert_exporter": "python"
  }
 },
 "nbformat": 4,
 "nbformat_minor": 5
}
