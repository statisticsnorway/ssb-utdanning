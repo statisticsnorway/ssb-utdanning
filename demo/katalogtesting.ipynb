{
 "cells": [
  {
   "cell_type": "code",
   "execution_count": null,
   "id": "f9b4b16a-d2b0-45d3-85b8-5d7f0af1140d",
   "metadata": {
    "tags": []
   },
   "outputs": [],
   "source": [
    "import os\n",
    "os.chdir(\"../\")\n",
    "from utd_felles import UtdKatalog"
   ]
  },
  {
   "cell_type": "code",
   "execution_count": null,
   "id": "8c4999ca-db02-4a3a-af80-796e0743e27c",
   "metadata": {},
   "outputs": [],
   "source": [
    "nuskat_path = \"/ssb/stamme01/utd_pii/nuskat/wk16/nus2000/carl_test/nus2000_carltest.sas7bdat\""
   ]
  },
  {
   "cell_type": "code",
   "execution_count": null,
   "id": "63ac9afd-b0e3-4d9b-94ca-91312f80e486",
   "metadata": {
    "tags": []
   },
   "outputs": [],
   "source": [
    "nuskat = UtdKatalog(nuskat_path, \n",
    "                    \"nus2000\",\n",
    "                    team=\"utd_vgu\",\n",
    "                   )"
   ]
  },
  {
   "cell_type": "code",
   "execution_count": null,
   "id": "3c34a7f4-c7ae-4e99-9ba9-dc4620e846f7",
   "metadata": {
    "tags": []
   },
   "outputs": [],
   "source": [
    "print(nuskat)"
   ]
  },
  {
   "cell_type": "code",
   "execution_count": null,
   "id": "5f7c0a83-c5e5-4c6c-bad9-3167e3de7f22",
   "metadata": {
    "tags": []
   },
   "outputs": [],
   "source": [
    "nuskat.save()"
   ]
  },
  {
   "cell_type": "code",
   "execution_count": null,
   "id": "998cf884-1989-4e51-aee0-897fe7ef79e4",
   "metadata": {},
   "outputs": [],
   "source": []
  }
 ],
 "metadata": {
  "language_info": {
   "codemirror_mode": {
    "name": "ipython"
   },
   "file_extension": ".py",
   "mimetype": "text/x-python",
   "name": "python",
   "nbconvert_exporter": "python"
  }
 },
 "nbformat": 4,
 "nbformat_minor": 5
}
