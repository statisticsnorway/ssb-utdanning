{
 "cells": [
  {
   "cell_type": "code",
   "execution_count": null,
   "id": "f9b4b16a-d2b0-45d3-85b8-5d7f0af1140d",
   "metadata": {
    "tags": []
   },
   "outputs": [],
   "source": [
    "import os\n",
    "\n",
    "os.chdir(\"../\")\n",
    "from utd_felles import UtdKatalog\n",
    "from utd_felles import create_new_utd_katalog\n",
    "from utd_felles import open_utd_katalog_from_metadata"
   ]
  },
  {
   "cell_type": "markdown",
   "id": "b40bf57d-0d6a-4d2d-8f41-5ddf6bdb994a",
   "metadata": {},
   "source": [
    "# Start from a sasfile"
   ]
  },
  {
   "cell_type": "code",
   "execution_count": null,
   "id": "b58a64a3-067f-46a7-be95-ee38518b0c81",
   "metadata": {
    "tags": []
   },
   "outputs": [],
   "source": [
    "nuskat_path = \"/ssb/stamme01/utd_pii/nuskat/wk16/nus2000/carl_test/nus2000_carltest.sas7bdat\"\n",
    "#nuskat_path = \"/ssb/stamme01/utd_pii/nuskat/wk16/nus2000/carl_test/nus2000_carltest\""
   ]
  },
  {
   "cell_type": "code",
   "execution_count": null,
   "id": "c841ab7f-9446-4d90-b3c8-480860c02323",
   "metadata": {
    "tags": []
   },
   "outputs": [],
   "source": [
    "nuskat = UtdKatalog(nuskat_path, \n",
    "                    \"nus2000\",\n",
    "                    versioned=True,  # True is default\n",
    "                    team=\"utd_vgu\",\n",
    "                   )"
   ]
  },
  {
   "cell_type": "code",
   "execution_count": null,
   "id": "052ab47e-d864-419a-8761-ba0cbe7e13b7",
   "metadata": {
    "tags": []
   },
   "outputs": [],
   "source": [
    "nuskat.data.info()"
   ]
  },
  {
   "cell_type": "code",
   "execution_count": null,
   "id": "9dca835b-dd78-4837-a860-a928dbf887d6",
   "metadata": {
    "tags": []
   },
   "outputs": [],
   "source": [
    "nuskat.path"
   ]
  },
  {
   "cell_type": "code",
   "execution_count": null,
   "id": "04a5b175-cdf8-4c11-82ce-c2cddcaa24cc",
   "metadata": {
    "tags": []
   },
   "outputs": [],
   "source": [
    "nuskat.save()"
   ]
  },
  {
   "cell_type": "code",
   "execution_count": null,
   "id": "63c7b656-8364-4e92-8cb3-4ab735ea0862",
   "metadata": {
    "tags": []
   },
   "outputs": [],
   "source": [
    "# Actually overwrite\n",
    "nuskat.save(existing_file=\"overwrite\")"
   ]
  },
  {
   "cell_type": "code",
   "execution_count": null,
   "id": "1f7fd8b4-6996-41b3-9d56-f35a2f5527ad",
   "metadata": {
    "tags": []
   },
   "outputs": [],
   "source": [
    "nuskat.path"
   ]
  },
  {
   "cell_type": "code",
   "execution_count": null,
   "id": "e6e927b7-2f33-468b-bbee-e632ade82a3c",
   "metadata": {
    "tags": []
   },
   "outputs": [],
   "source": [
    "# \"Filebump\" should write to first available space\n",
    "nuskat.save(existing_file=\"filebump\")"
   ]
  },
  {
   "cell_type": "code",
   "execution_count": null,
   "id": "59e83be2-5a36-40eb-b07a-eb514a5011ac",
   "metadata": {
    "tags": []
   },
   "outputs": [],
   "source": [
    "nuskat = open_utd_katalog_from_metadata(\"/ssb/stamme01/utd_pii/nuskat/wk16/nus2000/carl_test/nus2000_carltest_v1__META.json\")"
   ]
  },
  {
   "cell_type": "code",
   "execution_count": null,
   "id": "d9d3c174-7b30-4f01-8bba-39069cbb18d1",
   "metadata": {
    "tags": []
   },
   "outputs": [],
   "source": [
    "splitdata = nuskat.diff_against_dataset(df, merge_both=True)\n",
    "splitdata[\"in_both\"]"
   ]
  },
  {
   "cell_type": "code",
   "execution_count": null,
   "id": "23ad9c6f-7c6f-4fd7-970d-bd008317b65a",
   "metadata": {
    "tags": []
   },
   "outputs": [],
   "source": [
    "nuskat.data"
   ]
  },
  {
   "cell_type": "markdown",
   "id": "f1cb4961-fb2f-404a-8e35-5ff60d4be9f8",
   "metadata": {
    "tags": []
   },
   "source": [
    "# Make a new katalog, that hasnt existed before"
   ]
  },
  {
   "cell_type": "code",
   "execution_count": null,
   "id": "34686e2c-5705-4ff3-a0a9-e11147d7ccba",
   "metadata": {
    "tags": []
   },
   "outputs": [],
   "source": [
    "new_kat_path = \"/ssb/stamme01/utd_pii/nuskat/wk16/nus2000/carl_test/new_kat\"\n",
    "new_kat = create_new_utd_katalog(new_kat_path, \"key_col_name\")"
   ]
  },
  {
   "cell_type": "code",
   "execution_count": null,
   "id": "963fcd9a-8ecd-42b7-83a8-87de9a3ac792",
   "metadata": {
    "tags": []
   },
   "outputs": [],
   "source": [
    "new_kat.metadata[\"ansvarlig_seksjon\"] = \"360\""
   ]
  },
  {
   "cell_type": "code",
   "execution_count": null,
   "id": "11d8da19-29c6-4994-af78-91396babadcd",
   "metadata": {
    "tags": []
   },
   "outputs": [],
   "source": [
    "print(new_kat)"
   ]
  },
  {
   "cell_type": "code",
   "execution_count": null,
   "id": "6a250df9-a681-4f36-8574-0559c030220a",
   "metadata": {
    "tags": []
   },
   "outputs": [],
   "source": [
    "new_kat.save()"
   ]
  },
  {
   "cell_type": "code",
   "execution_count": null,
   "id": "a47c054e-53b8-4802-b4a6-86b633b66d9c",
   "metadata": {
    "tags": []
   },
   "outputs": [],
   "source": [
    "# Delete new files we made\n",
    "import glob\n",
    "\n",
    "for file in glob.glob(\"_\".join(new_kat_path.split(\"_\")[:-1]) + \"*\"):\n",
    "    os.remove(file)"
   ]
  }
 ],
 "metadata": {
  "language_info": {
   "codemirror_mode": {
    "name": "ipython"
   },
   "file_extension": ".py",
   "mimetype": "text/x-python",
   "name": "python",
   "nbconvert_exporter": "python"
  }
 },
 "nbformat": 4,
 "nbformat_minor": 5
}
