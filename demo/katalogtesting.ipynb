{
 "cells": [
  {
   "cell_type": "code",
   "execution_count": null,
   "id": "f9b4b16a-d2b0-45d3-85b8-5d7f0af1140d",
   "metadata": {
    "tags": []
   },
   "outputs": [],
   "source": [
    "import os\n",
    "os.chdir(\"../\")\n",
    "from utd_felles import UtdKatalog, open_utd_katalog_from_metadata"
   ]
  },
  {
   "cell_type": "code",
   "execution_count": null,
   "id": "59e83be2-5a36-40eb-b07a-eb514a5011ac",
   "metadata": {
    "tags": []
   },
   "outputs": [],
   "source": [
    "nuskat = open_utd_katalog_from_metadata(\"/ssb/stamme01/utd_pii/nuskat/wk16/nus2000/carl_test/nus2000_carltest_v1__META.json\")"
   ]
  },
  {
   "cell_type": "code",
   "execution_count": null,
   "id": "923146ba-2a3f-4b2d-904f-e0bd5096323d",
   "metadata": {
    "tags": []
   },
   "outputs": [],
   "source": [
    "print(nuskat)"
   ]
  },
  {
   "cell_type": "code",
   "execution_count": null,
   "id": "b58a64a3-067f-46a7-be95-ee38518b0c81",
   "metadata": {
    "tags": []
   },
   "outputs": [],
   "source": [
    "nuskat_path = \"/ssb/stamme01/utd_pii/nuskat/wk16/nus2000/carl_test/nus2000_carltest.sas7bdat\""
   ]
  },
  {
   "cell_type": "code",
   "execution_count": null,
   "id": "c841ab7f-9446-4d90-b3c8-480860c02323",
   "metadata": {
    "tags": []
   },
   "outputs": [],
   "source": [
    "nuskat = UtdKatalog(nuskat_path, \n",
    "                    \"nus2000\",\n",
    "                    team=\"utd_vgu\",\n",
    "                   )"
   ]
  },
  {
   "cell_type": "code",
   "execution_count": null,
   "id": "63c7b656-8364-4e92-8cb3-4ab735ea0862",
   "metadata": {
    "tags": []
   },
   "outputs": [],
   "source": [
    "# Actually overwrite\n",
    "nuskat.save(existing_file=\"overwrite\")"
   ]
  },
  {
   "cell_type": "code",
   "execution_count": null,
   "id": "1f7fd8b4-6996-41b3-9d56-f35a2f5527ad",
   "metadata": {
    "tags": []
   },
   "outputs": [],
   "source": [
    "nuskat.path"
   ]
  },
  {
   "cell_type": "code",
   "execution_count": null,
   "id": "e6e927b7-2f33-468b-bbee-e632ade82a3c",
   "metadata": {
    "tags": []
   },
   "outputs": [],
   "source": [
    "# Should write to first available space\n",
    "nuskat.save(existing_file=\"filebump\")"
   ]
  },
  {
   "cell_type": "code",
   "execution_count": null,
   "id": "5fc824e9-83c7-4753-8515-00410d128859",
   "metadata": {},
   "outputs": [],
   "source": []
  }
 ],
 "metadata": {
  "language_info": {
   "codemirror_mode": {
    "name": "ipython"
   },
   "file_extension": ".py",
   "mimetype": "text/x-python",
   "name": "python",
   "nbconvert_exporter": "python"
  }
 },
 "nbformat": 4,
 "nbformat_minor": 5
}
