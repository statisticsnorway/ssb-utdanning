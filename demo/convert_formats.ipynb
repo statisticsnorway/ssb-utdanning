{
 "cells": [
  {
   "cell_type": "code",
   "execution_count": null,
   "id": "b219bd28-3c38-4d53-aa42-073918a66554",
   "metadata": {
    "tags": []
   },
   "outputs": [],
   "source": [
    "import os"
   ]
  },
  {
   "cell_type": "code",
   "execution_count": null,
   "id": "0125db2c-4f9a-4ae2-baf4-b51b4657f044",
   "metadata": {
    "tags": []
   },
   "outputs": [],
   "source": [
    "path = \"/ssb/stamme01/utd/prog/fellesprogrammer/formater/\""
   ]
  },
  {
   "cell_type": "code",
   "execution_count": null,
   "id": "48390e85-e4cd-4ce2-a937-c329f61fb190",
   "metadata": {
    "tags": []
   },
   "outputs": [],
   "source": [
    "sas_files = os.listdir(path)"
   ]
  },
  {
   "cell_type": "code",
   "execution_count": null,
   "id": "17858c36-96b1-4cb6-ba88-77af5d026249",
   "metadata": {
    "tags": []
   },
   "outputs": [],
   "source": [
    "sas_files"
   ]
  },
  {
   "cell_type": "code",
   "execution_count": null,
   "id": "64620ee4-3cb1-46bf-84ca-a4107e0c1607",
   "metadata": {
    "tags": []
   },
   "outputs": [],
   "source": [
    "with open(path + sas_files[0], \"rb\") as sas_file:\n",
    "    sas_content = sas_file.read().decode(\"latin1\")\n",
    "print(sas_content)"
   ]
  },
  {
   "cell_type": "code",
   "execution_count": null,
   "id": "9e6a5857-3aed-432c-ba1c-5d7ee8d37f95",
   "metadata": {},
   "outputs": [],
   "source": []
  }
 ],
 "metadata": {
  "language_info": {
   "codemirror_mode": {
    "name": "ipython"
   },
   "file_extension": ".py",
   "mimetype": "text/x-python",
   "name": "python",
   "nbconvert_exporter": "python"
  }
 },
 "nbformat": 4,
 "nbformat_minor": 5
}
