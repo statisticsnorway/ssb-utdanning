{
 "cells": [
  {
   "cell_type": "code",
   "execution_count": null,
   "id": "deedf713-2166-4535-8933-4857d69f967d",
   "metadata": {
    "tags": []
   },
   "outputs": [],
   "source": [
    "from ssb_utdanning import UtdKatalog"
   ]
  },
  {
   "cell_type": "code",
   "execution_count": null,
   "id": "f8f3b17d-a174-4c5f-8f43-c2bf3e32d815",
   "metadata": {
    "tags": []
   },
   "outputs": [],
   "source": [
    "import datetime\n",
    "from ssb_utdanning.paths.get_paths import get_path_reference_date, get_path_dates"
   ]
  },
  {
   "cell_type": "code",
   "execution_count": null,
   "id": "74df3304-0922-4f64-a1f2-35aac8ba3944",
   "metadata": {
    "tags": []
   },
   "outputs": [],
   "source": [
    "FOUR_DIGITS = (\"[0-9]\")*4\n",
    "TWO_DIGITS = (\"[0-9]\")*2"
   ]
  },
  {
   "cell_type": "code",
   "execution_count": null,
   "id": "43228291-931b-4d5d-9ad4-3bef46d9dbe7",
   "metadata": {
    "tags": []
   },
   "outputs": [],
   "source": [
    "get_path_reference_date(datetime.datetime(2022,1,1), \n",
    "                     f\"/ssb/stamme01/utd/kat/skolereg/skolereg_p{FOUR_DIGITS}-{TWO_DIGITS}_v*.parquet\",\n",
    "                    )"
   ]
  },
  {
   "cell_type": "code",
   "execution_count": null,
   "id": "9f01ccc8-2c46-4355-a4ef-1defba325106",
   "metadata": {},
   "outputs": [],
   "source": []
  },
  {
   "cell_type": "code",
   "execution_count": null,
   "id": "2bf10c1e-95ed-4135-bc5c-2f384fe0d53a",
   "metadata": {
    "tags": []
   },
   "outputs": [],
   "source": [
    "avslutta_glob = \"/ssb/cloud_sync/utd-nudb/kilde/tilsky/arkiv_bakke_konvertert/avslutta/avslutta_p*.parquet\""
   ]
  },
  {
   "cell_type": "code",
   "execution_count": null,
   "id": "e019990f-eaff-473a-9ba6-11bf81bbf69f",
   "metadata": {
    "tags": []
   },
   "outputs": [],
   "source": [
    "list(get_path_dates(avslutta_glob).values())[0][1] == datetime.datetime(2022,1,1)"
   ]
  },
  {
   "cell_type": "code",
   "execution_count": null,
   "id": "b0980407-dd69-4872-9407-f3e5fa9cb603",
   "metadata": {
    "tags": []
   },
   "outputs": [],
   "source": [
    "get_path_reference_date(datetime.datetime(2021,1,2), \n",
    "                        avslutta_glob,\n",
    "                       )"
   ]
  },
  {
   "cell_type": "code",
   "execution_count": null,
   "id": "22f752c2-c66a-4780-a3eb-793da06ce95b",
   "metadata": {
    "tags": []
   },
   "outputs": [],
   "source": [
    "skolereg = UtdKatalog(\"skolereg\", team_navn=\"utd-vg\")"
   ]
  }
 ],
 "metadata": {
  "language_info": {
   "codemirror_mode": {
    "name": "ipython"
   },
   "file_extension": ".py",
   "mimetype": "text/x-python",
   "name": "python",
   "nbconvert_exporter": "python"
  }
 },
 "nbformat": 4,
 "nbformat_minor": 5
}
