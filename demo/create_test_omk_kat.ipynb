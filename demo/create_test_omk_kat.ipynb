{
 "cells": [
  {
   "cell_type": "code",
   "execution_count": null,
   "id": "0",
   "metadata": {
    "tags": []
   },
   "outputs": [],
   "source": [
    "import os\n",
    "from datetime import datetime\n",
    "\n",
    "from saspy_session import saspy_df_from_path"
   ]
  },
  {
   "cell_type": "code",
   "execution_count": null,
   "id": "1",
   "metadata": {
    "tags": []
   },
   "outputs": [],
   "source": [
    "omk_path = \"/ssb/stamme01/utd_pii/vgselev/kat/elev/omkodkat/\"\n",
    "omk_filename = \"skoler2022.sas7bdat\"  # four last characters indicate date/year\n",
    "omk_kat_inn = saspy_df_from_path(omk_path + omk_filename)"
   ]
  },
  {
   "cell_type": "code",
   "execution_count": null,
   "id": "2",
   "metadata": {
    "tags": []
   },
   "outputs": [],
   "source": [
    "omk_kat_inn.rename(\n",
    "    columns={\n",
    "        \"orgnr\": \"orgnr_omk\",\n",
    "        \"orgnrbed\": \"orgnrbed_omk\",\n",
    "        \"naering\": \"nace1_sn07_omk\",\n",
    "        \"eierf\": \"eierf_omk\",\n",
    "        \"skolekom\": \"skolekom_omk\",\n",
    "    },\n",
    "    inplace=True,\n",
    ")\n",
    "keep = [\n",
    "    \"fskolenr\",\n",
    "    \"fskolenavn\",\n",
    "    \"orgnr_omk\",\n",
    "    \"orgnrbed_omk\",\n",
    "    \"nace1_sn07_omk\",\n",
    "    \"eierf_omk\",\n",
    "    \"skolekom_omk\",\n",
    "    \"merknadsfelt\",\n",
    "]\n",
    "omk_kat = omk_kat_inn[keep]"
   ]
  },
  {
   "cell_type": "code",
   "execution_count": null,
   "id": "3",
   "metadata": {
    "tags": []
   },
   "outputs": [],
   "source": [
    "omk_kat[\"dato\"] = datetime.now().isoformat(\"T\", \"seconds\")"
   ]
  },
  {
   "cell_type": "code",
   "execution_count": null,
   "id": "4",
   "metadata": {
    "tags": []
   },
   "outputs": [],
   "source": [
    "omk_kat"
   ]
  },
  {
   "cell_type": "code",
   "execution_count": null,
   "id": "5",
   "metadata": {},
   "outputs": [],
   "source": [
    "path_out = \"/ssb/stamme01/utd/vgselev/kat/elev/omkodkat/\"\n",
    "now = datetime.now().isoformat(\"T\", \"seconds\").replace(\":\", \"-\")\n",
    "filename_out = f\"testomkkat_{now}.parquet\"\n",
    "# filename_out = 'testomkkat_2023-02-01T15-09-13.parquet'\n",
    "omk_kat.to_parquet(path_out + filename_out)"
   ]
  },
  {
   "cell_type": "code",
   "execution_count": null,
   "id": "6",
   "metadata": {},
   "outputs": [],
   "source": [
    "os.listdir(\"/ssb/stamme01/utd/vgselev/kat/elev/omkodkat/\")"
   ]
  },
  {
   "cell_type": "code",
   "execution_count": null,
   "id": "7",
   "metadata": {},
   "outputs": [],
   "source": []
  }
 ],
 "metadata": {
  "language_info": {
   "codemirror_mode": {
    "name": "ipython"
   },
   "file_extension": ".py",
   "mimetype": "text/x-python",
   "name": "python",
   "nbconvert_exporter": "python"
  }
 },
 "nbformat": 4,
 "nbformat_minor": 5
}
