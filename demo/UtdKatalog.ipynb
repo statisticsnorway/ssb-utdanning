{
 "cells": [
  {
   "cell_type": "code",
   "execution_count": null,
   "id": "0",
   "metadata": {
    "tags": []
   },
   "outputs": [],
   "source": [
    "from ssb_utdanning import UtdKatalog, UtdData"
   ]
  },
  {
   "cell_type": "code",
   "execution_count": null,
   "id": "1",
   "metadata": {
    "tags": []
   },
   "outputs": [],
   "source": [
    "import pandas as pd\n",
    "katalog_data = pd.DataFrame({\n",
    "    \"orgnr\": [\"0123\", \"1234\", \"2345\"],\n",
    "    \"orgnrbed\": [\"0123\", \"3456\", \"\"],\n",
    "    \"kommnr\": [\"5000\", \"6000\", \"6789\"],\n",
    "})\n",
    "fake_orgnr = UtdKatalog([\"orgnr\", \"orgnrbed\"], data=katalog_data, path=\"./fake_path_p2020_v1.parquet\")"
   ]
  },
  {
   "cell_type": "code",
   "execution_count": null,
   "id": "2",
   "metadata": {
    "tags": []
   },
   "outputs": [],
   "source": [
    "fake_data = UtdData(data=pd.DataFrame({\n",
    "    \"orgnr\": [\"0123\", \"1234\", \"2345\", \"3456\", \"4567\"],\n",
    "    \"inntekt\": [100, 2000, 30000, 400000, 5000000],\n",
    "}), path=\"./fake_data_path_p2020_v1.parquet\")"
   ]
  },
  {
   "cell_type": "code",
   "execution_count": null,
   "id": "3",
   "metadata": {
    "tags": []
   },
   "outputs": [],
   "source": [
    "fake_orgnr.merge_on(fake_data, key_col_in_data=\"orgnr\")"
   ]
  },
  {
   "cell_type": "code",
   "execution_count": null,
   "id": "4",
   "metadata": {},
   "outputs": [],
   "source": []
  }
 ],
 "metadata": {
  "language_info": {
   "codemirror_mode": {
    "name": "ipython"
   },
   "file_extension": ".py",
   "mimetype": "text/x-python",
   "name": "python",
   "nbconvert_exporter": "python"
  }
 },
 "nbformat": 4,
 "nbformat_minor": 5
}
