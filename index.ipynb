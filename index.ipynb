{
 "cells": [
  {
   "cell_type": "code",
   "execution_count": null,
   "metadata": {},
   "outputs": [],
   "source": [
    "#hide\n",
    "#import ssb_fellesfunksjoner_360.klass"
   ]
  },
  {
   "cell_type": "markdown",
   "metadata": {},
   "source": [
    "# Fellesfunksjoner for 360\n",
    "\n",
    "> En test for å se om fellesfunksjonene våre kan organiseres som ett nbdev-prosjekt"
   ]
  },
  {
   "cell_type": "markdown",
   "metadata": {},
   "source": [
    "This file will become your README and also the index of your documentation."
   ]
  },
  {
   "cell_type": "markdown",
   "metadata": {},
   "source": [
    "## Install"
   ]
  },
  {
   "cell_type": "markdown",
   "metadata": {},
   "source": [
    "`pip install ssb_fellesfunksjoner_360`"
   ]
  },
  {
   "cell_type": "markdown",
   "metadata": {},
   "source": [
    "## Hvordan bruke modulen"
   ]
  },
  {
   "cell_type": "markdown",
   "metadata": {},
   "source": [
    "Etter å ha importert modulen, så kan du feks bruke denne funksjonen for å hente noe fra KLASS-apiet som en pandas dataframe."
   ]
  },
  {
   "cell_type": "code",
   "execution_count": null,
   "metadata": {},
   "outputs": [],
   "source": [
    "from ssb_fellesfunksjoner_360 import klass"
   ]
  },
  {
   "cell_type": "code",
   "execution_count": null,
   "metadata": {},
   "outputs": [
    {
     "data": {
      "text/html": [
       "<div>\n",
       "<style scoped>\n",
       "    .dataframe tbody tr th:only-of-type {\n",
       "        vertical-align: middle;\n",
       "    }\n",
       "\n",
       "    .dataframe tbody tr th {\n",
       "        vertical-align: top;\n",
       "    }\n",
       "\n",
       "    .dataframe thead th {\n",
       "        text-align: right;\n",
       "    }\n",
       "</style>\n",
       "<table border=\"1\" class=\"dataframe\">\n",
       "  <thead>\n",
       "    <tr style=\"text-align: right;\">\n",
       "      <th></th>\n",
       "      <th>code</th>\n",
       "      <th>parentCode</th>\n",
       "      <th>level</th>\n",
       "      <th>name</th>\n",
       "      <th>shortName</th>\n",
       "      <th>notes</th>\n",
       "    </tr>\n",
       "  </thead>\n",
       "  <tbody>\n",
       "    <tr>\n",
       "      <th>0</th>\n",
       "      <td>03</td>\n",
       "      <td></td>\n",
       "      <td>1</td>\n",
       "      <td>Oslo</td>\n",
       "      <td>None</td>\n",
       "      <td></td>\n",
       "    </tr>\n",
       "    <tr>\n",
       "      <th>1</th>\n",
       "      <td>11</td>\n",
       "      <td></td>\n",
       "      <td>1</td>\n",
       "      <td>Rogaland</td>\n",
       "      <td>None</td>\n",
       "      <td></td>\n",
       "    </tr>\n",
       "    <tr>\n",
       "      <th>2</th>\n",
       "      <td>15</td>\n",
       "      <td></td>\n",
       "      <td>1</td>\n",
       "      <td>Møre og Romsdal</td>\n",
       "      <td>None</td>\n",
       "      <td></td>\n",
       "    </tr>\n",
       "    <tr>\n",
       "      <th>3</th>\n",
       "      <td>18</td>\n",
       "      <td></td>\n",
       "      <td>1</td>\n",
       "      <td>Nordland</td>\n",
       "      <td>None</td>\n",
       "      <td></td>\n",
       "    </tr>\n",
       "    <tr>\n",
       "      <th>4</th>\n",
       "      <td>30</td>\n",
       "      <td></td>\n",
       "      <td>1</td>\n",
       "      <td>Viken</td>\n",
       "      <td>None</td>\n",
       "      <td></td>\n",
       "    </tr>\n",
       "    <tr>\n",
       "      <th>5</th>\n",
       "      <td>34</td>\n",
       "      <td></td>\n",
       "      <td>1</td>\n",
       "      <td>Innlandet</td>\n",
       "      <td>None</td>\n",
       "      <td></td>\n",
       "    </tr>\n",
       "    <tr>\n",
       "      <th>6</th>\n",
       "      <td>38</td>\n",
       "      <td></td>\n",
       "      <td>1</td>\n",
       "      <td>Vestfold og Telemark</td>\n",
       "      <td>None</td>\n",
       "      <td></td>\n",
       "    </tr>\n",
       "    <tr>\n",
       "      <th>7</th>\n",
       "      <td>42</td>\n",
       "      <td></td>\n",
       "      <td>1</td>\n",
       "      <td>Agder</td>\n",
       "      <td>None</td>\n",
       "      <td></td>\n",
       "    </tr>\n",
       "    <tr>\n",
       "      <th>8</th>\n",
       "      <td>46</td>\n",
       "      <td></td>\n",
       "      <td>1</td>\n",
       "      <td>Vestland</td>\n",
       "      <td>None</td>\n",
       "      <td></td>\n",
       "    </tr>\n",
       "    <tr>\n",
       "      <th>9</th>\n",
       "      <td>50</td>\n",
       "      <td></td>\n",
       "      <td>1</td>\n",
       "      <td>Trøndelag - Trööndelage</td>\n",
       "      <td>None</td>\n",
       "      <td></td>\n",
       "    </tr>\n",
       "    <tr>\n",
       "      <th>10</th>\n",
       "      <td>54</td>\n",
       "      <td></td>\n",
       "      <td>1</td>\n",
       "      <td>Troms og Finnmark – Romsa ja Finnmárku – Troms...</td>\n",
       "      <td>None</td>\n",
       "      <td></td>\n",
       "    </tr>\n",
       "    <tr>\n",
       "      <th>11</th>\n",
       "      <td>99</td>\n",
       "      <td></td>\n",
       "      <td>1</td>\n",
       "      <td>Uoppgitt</td>\n",
       "      <td>None</td>\n",
       "      <td></td>\n",
       "    </tr>\n",
       "  </tbody>\n",
       "</table>\n",
       "</div>"
      ],
      "text/plain": [
       "   code parentCode level                                               name  \\\n",
       "0    03                1                                               Oslo   \n",
       "1    11                1                                           Rogaland   \n",
       "2    15                1                                    Møre og Romsdal   \n",
       "3    18                1                                           Nordland   \n",
       "4    30                1                                              Viken   \n",
       "5    34                1                                          Innlandet   \n",
       "6    38                1                               Vestfold og Telemark   \n",
       "7    42                1                                              Agder   \n",
       "8    46                1                                           Vestland   \n",
       "9    50                1                            Trøndelag - Trööndelage   \n",
       "10   54                1  Troms og Finnmark – Romsa ja Finnmárku – Troms...   \n",
       "11   99                1                                           Uoppgitt   \n",
       "\n",
       "   shortName notes  \n",
       "0       None        \n",
       "1       None        \n",
       "2       None        \n",
       "3       None        \n",
       "4       None        \n",
       "5       None        \n",
       "6       None        \n",
       "7       None        \n",
       "8       None        \n",
       "9       None        \n",
       "10      None        \n",
       "11      None        "
      ]
     },
     "execution_count": null,
     "metadata": {},
     "output_type": "execute_result"
    }
   ],
   "source": [
    "gjeld_fylke = klass.get_pandas('http://data.ssb.no/api/klass/v1/versions/1158', 'classificationItems')\n",
    "gjeld_fylke"
   ]
  },
  {
   "cell_type": "code",
   "execution_count": null,
   "metadata": {},
   "outputs": [],
   "source": []
  }
 ],
 "metadata": {
  "kernelspec": {
   "display_name": "Python 3",
   "language": "python",
   "name": "python3"
  }
 },
 "nbformat": 4,
 "nbformat_minor": 4
}
