{
 "cells": [
  {
   "cell_type": "code",
   "execution_count": null,
   "id": "55dca916-df5c-4450-bb24-574d80f92303",
   "metadata": {
    "tags": []
   },
   "outputs": [],
   "source": [
    "import pandas as pd\n",
    "import os"
   ]
  },
  {
   "cell_type": "code",
   "execution_count": null,
   "id": "deedf713-2166-4535-8933-4857d69f967d",
   "metadata": {},
   "outputs": [],
   "source": [
    "curr_dir = os.getcwd()\n",
    "os.chdir(\"../\")\n",
    "from utd_felles import nuskat\n",
    "os.chdir(curr_dir)"
   ]
  },
  {
   "cell_type": "code",
   "execution_count": null,
   "id": "85a39130-7d32-42d0-a5a2-4b9cf2c51f6d",
   "metadata": {
    "tags": []
   },
   "outputs": [],
   "source": [
    "df = pd.DataFrame({\"nus2000\": [\"101999\", \"139999\"]})\n",
    "df"
   ]
  },
  {
   "cell_type": "code",
   "execution_count": null,
   "id": "b8001eea-3ba1-4b96-8805-9ebacb3fb668",
   "metadata": {
    "tags": []
   },
   "outputs": [],
   "source": [
    "nuskat = nuskat()"
   ]
  },
  {
   "cell_type": "code",
   "execution_count": null,
   "id": "a1c30b6b-2c9b-4f29-8267-603cae66242b",
   "metadata": {
    "tags": []
   },
   "outputs": [],
   "source": [
    "df = nuskat.apply_format(df)"
   ]
  },
  {
   "cell_type": "code",
   "execution_count": null,
   "id": "80e3a7ed-87fd-445b-a75e-fbdd9a2f5939",
   "metadata": {
    "tags": []
   },
   "outputs": [],
   "source": [
    "df = df.pipe(nuskat.apply_format, \"i97isced\")"
   ]
  },
  {
   "cell_type": "code",
   "execution_count": null,
   "id": "736f2526-13c3-4855-8bc0-6b50d7466541",
   "metadata": {},
   "outputs": [],
   "source": [
    "df"
   ]
  },
  {
   "cell_type": "code",
   "execution_count": null,
   "id": "c8ba1329-1995-40f0-a34d-d269ccb5fb89",
   "metadata": {},
   "outputs": [],
   "source": []
  }
 ],
 "metadata": {
  "language_info": {
   "codemirror_mode": {
    "name": "ipython"
   },
   "file_extension": ".py",
   "mimetype": "text/x-python",
   "name": "python",
   "nbconvert_exporter": "python"
  }
 },
 "nbformat": 4,
 "nbformat_minor": 5
}
