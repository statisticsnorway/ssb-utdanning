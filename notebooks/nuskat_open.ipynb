{
 "cells": [
  {
   "cell_type": "code",
   "execution_count": null,
   "id": "55dca916-df5c-4450-bb24-574d80f92303",
   "metadata": {
    "tags": []
   },
   "outputs": [],
   "source": [
    "import pandas as pd\n",
    "import os"
   ]
  },
  {
   "cell_type": "code",
   "execution_count": null,
   "id": "7667f849-e710-42ab-952f-a2c7d9647d5d",
   "metadata": {
    "tags": []
   },
   "outputs": [],
   "source": [
    "curr_dir = os.getcwd()\n",
    "os.chdir(\"../\")\n",
    "from utd_felles.data.auto_dtype import auto_dtype"
   ]
  },
  {
   "cell_type": "code",
   "execution_count": null,
   "id": "6be269b0-e7b0-4347-b0df-163ea56c27d8",
   "metadata": {
    "tags": []
   },
   "outputs": [],
   "source": [
    "path = \"/ssb/stamme01/utd/nuskat/wk16/nus2000/nus2000.sas7bdat\""
   ]
  },
  {
   "cell_type": "code",
   "execution_count": null,
   "id": "df5d6260-696a-4048-829a-20933b4cccd6",
   "metadata": {
    "tags": []
   },
   "outputs": [],
   "source": [
    "nuskat = auto_dtype(pd.read_sas(path))"
   ]
  },
  {
   "cell_type": "code",
   "execution_count": null,
   "id": "282e6be9-60a6-47ca-bb3e-c89dd714a48e",
   "metadata": {
    "tags": []
   },
   "outputs": [],
   "source": [
    "def nuskat_dict(col: str, level: int = 6) -> dict:\n",
    "    nuskat_cp = nuskat.copy()\n",
    "    if level > 0:\n",
    "        nuskat_cp = nuskat_cp[nuskat_cp[\"nus2000\"].str.len() == level] \n",
    "    return dict(zip(nuskat_cp[\"nus2000\"], nuskat_cp[col.lower()]))"
   ]
  },
  {
   "cell_type": "code",
   "execution_count": null,
   "id": "975e2b32-4f5f-4ec7-b532-0d9688fd7e49",
   "metadata": {
    "tags": []
   },
   "outputs": [],
   "source": [
    "nuskat_dict(\"i97isced\")"
   ]
  },
  {
   "cell_type": "code",
   "execution_count": null,
   "id": "0f04d4f5-769c-41f2-9dc8-4bfcbe46b720",
   "metadata": {},
   "outputs": [],
   "source": []
  }
 ],
 "metadata": {
  "language_info": {
   "codemirror_mode": {
    "name": "ipython"
   },
   "file_extension": ".py",
   "mimetype": "text/x-python",
   "name": "python",
   "nbconvert_exporter": "python"
  }
 },
 "nbformat": 4,
 "nbformat_minor": 5
}
