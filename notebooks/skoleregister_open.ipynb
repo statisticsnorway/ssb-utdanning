{
 "cells": [
  {
   "cell_type": "code",
   "execution_count": null,
   "id": "55dca916-df5c-4450-bb24-574d80f92303",
   "metadata": {
    "tags": []
   },
   "outputs": [],
   "source": [
    "import pandas as pd\n",
    "import os"
   ]
  },
  {
   "cell_type": "code",
   "execution_count": null,
   "id": "deedf713-2166-4535-8933-4857d69f967d",
   "metadata": {},
   "outputs": [],
   "source": [
    "curr_dir = os.getcwd()\n",
    "os.chdir(\"../\")\n",
    "from utd_felles.format.skoleregister import skolereg_get, skolereg_dict\n",
    "os.chdir(curr_dir)"
   ]
  },
  {
   "cell_type": "code",
   "execution_count": null,
   "id": "0aba8de3-194c-4555-b68d-f58eeea35437",
   "metadata": {
    "tags": []
   },
   "outputs": [],
   "source": [
    "skolereg_get(\"2022\")"
   ]
  },
  {
   "cell_type": "code",
   "execution_count": null,
   "id": "dc60e520-0372-428b-a691-0fab13387a62",
   "metadata": {
    "tags": []
   },
   "outputs": [],
   "source": [
    "skolereg_dict(\"skolekom\")"
   ]
  },
  {
   "cell_type": "code",
   "execution_count": null,
   "id": "3b1e8804-6315-4c9b-8a65-a3dcb99ce1c0",
   "metadata": {},
   "outputs": [],
   "source": []
  }
 ],
 "metadata": {
  "language_info": {
   "codemirror_mode": {
    "name": "ipython"
   },
   "file_extension": ".py",
   "mimetype": "text/x-python",
   "name": "python",
   "nbconvert_exporter": "python"
  }
 },
 "nbformat": 4,
 "nbformat_minor": 5
}
