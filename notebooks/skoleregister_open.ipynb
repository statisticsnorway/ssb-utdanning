{
 "cells": [
  {
   "cell_type": "code",
   "execution_count": null,
   "id": "55dca916-df5c-4450-bb24-574d80f92303",
   "metadata": {
    "tags": []
   },
   "outputs": [],
   "source": [
    "import pandas as pd\n",
    "import os"
   ]
  },
  {
   "cell_type": "code",
   "execution_count": null,
   "id": "deedf713-2166-4535-8933-4857d69f967d",
   "metadata": {},
   "outputs": [],
   "source": [
    "curr_dir = os.getcwd()\n",
    "os.chdir(\"../\")\n",
    "from utd_felles import get_skoleregister, skoleregister_years\n",
    "os.chdir(curr_dir)"
   ]
  },
  {
   "cell_type": "code",
   "execution_count": null,
   "id": "dc0aeaf3-62d0-406a-9195-a3c19924a587",
   "metadata": {
    "tags": []
   },
   "outputs": [],
   "source": [
    "skoleregister_years()"
   ]
  },
  {
   "cell_type": "code",
   "execution_count": null,
   "id": "0aba8de3-194c-4555-b68d-f58eeea35437",
   "metadata": {
    "tags": []
   },
   "outputs": [],
   "source": [
    "skolereg = get_skoleregister(\"2022\")"
   ]
  },
  {
   "cell_type": "code",
   "execution_count": null,
   "id": "85948bb8-05dd-4bf3-b463-ecd0d76a23f3",
   "metadata": {
    "tags": []
   },
   "outputs": [],
   "source": [
    "skolereg.to_dict(\"orgnrforetak\")"
   ]
  },
  {
   "cell_type": "code",
   "execution_count": null,
   "id": "d3e87dc7-8ada-45ea-94a5-f204051964e0",
   "metadata": {
    "tags": []
   },
   "outputs": [],
   "source": [
    "type(skolereg)"
   ]
  },
  {
   "cell_type": "code",
   "execution_count": null,
   "id": "dc60e520-0372-428b-a691-0fab13387a62",
   "metadata": {
    "tags": []
   },
   "outputs": [],
   "source": [
    "print(skolereg)"
   ]
  },
  {
   "cell_type": "code",
   "execution_count": null,
   "id": "3b1e8804-6315-4c9b-8a65-a3dcb99ce1c0",
   "metadata": {},
   "outputs": [],
   "source": [
    "type(skolereg)"
   ]
  },
  {
   "cell_type": "code",
   "execution_count": null,
   "id": "b13f2489-eed1-4974-b99e-3552b0b461f2",
   "metadata": {},
   "outputs": [],
   "source": []
  }
 ],
 "metadata": {
  "language_info": {
   "codemirror_mode": {
    "name": "ipython"
   },
   "file_extension": ".py",
   "mimetype": "text/x-python",
   "name": "python",
   "nbconvert_exporter": "python"
  }
 },
 "nbformat": 4,
 "nbformat_minor": 5
}
