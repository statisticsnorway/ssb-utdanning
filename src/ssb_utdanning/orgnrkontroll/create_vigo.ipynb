{
 "cells": [
  {
   "cell_type": "code",
   "execution_count": null,
   "id": "444aa9d9-34ce-4f00-a3f5-a051ebe339e4",
   "metadata": {
    "tags": []
   },
   "outputs": [],
   "source": [
    "import pandas as pd\n",
    "from saspy_session import saspy_df_from_path"
   ]
  },
  {
   "cell_type": "code",
   "execution_count": null,
   "id": "e59e1270-0328-4ecc-8f1c-b01edbe44ddb",
   "metadata": {
    "tags": []
   },
   "outputs": [],
   "source": [
    "filename = \"skole.sas7bdat\"\n",
    "path = \"/ssb/stamme01/utd/katalog/vigo/202311/\"\n",
    "vigo = saspy_df_from_path(path+filename)"
   ]
  },
  {
   "cell_type": "code",
   "execution_count": null,
   "id": "297c18c2-d404-4e12-9cc7-763d282e3801",
   "metadata": {
    "tags": []
   },
   "outputs": [],
   "source": [
    "vigo.info()"
   ]
  },
  {
   "cell_type": "code",
   "execution_count": null,
   "id": "8c82e02e-0016-44b2-b154-8e9ec17fe833",
   "metadata": {
    "tags": []
   },
   "outputs": [],
   "source": [
    "filename_out = \"testvigoskole_g2023.parquet\"\n",
    "path_out = \"/ssb/stamme01/utd/katalog/vigo/\"\n",
    "vigo.to_parquet(path_out + filename_out)"
   ]
  },
  {
   "cell_type": "code",
   "execution_count": null,
   "id": "cbcba14d-a499-4009-8245-2c0495796dee",
   "metadata": {},
   "outputs": [],
   "source": []
  }
 ],
 "metadata": {
  "language_info": {
   "codemirror_mode": {
    "name": "ipython"
   },
   "file_extension": ".py",
   "mimetype": "text/x-python",
   "name": "python",
   "nbconvert_exporter": "python"
  }
 },
 "nbformat": 4,
 "nbformat_minor": 5
}
