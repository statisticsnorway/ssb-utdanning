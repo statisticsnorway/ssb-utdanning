{
 "cells": [
  {
   "cell_type": "code",
   "execution_count": null,
   "id": "428fd988-b298-4f58-ab0a-1489a1b11ff8",
   "metadata": {
    "tags": []
   },
   "outputs": [],
   "source": [
    "from saspy_session import saspy_df_from_path"
   ]
  },
  {
   "cell_type": "code",
   "execution_count": null,
   "id": "e7d4c036-9a35-443b-bc48-5ac8492c2c95",
   "metadata": {
    "tags": []
   },
   "outputs": [],
   "source": [
    "path = \"/ssb/stamme01/utd/kat/skolereg/\"\n",
    "filename = \"g202310.sas7bdat\"\n",
    "\n",
    "skolereg = saspy_df_from_path(path + filename)"
   ]
  },
  {
   "cell_type": "code",
   "execution_count": null,
   "id": "48cf6a5e-e620-4afc-b257-1bd0c35e981c",
   "metadata": {
    "tags": []
   },
   "outputs": [],
   "source": [
    "skolereg"
   ]
  },
  {
   "cell_type": "code",
   "execution_count": null,
   "id": "23be1d40-7db7-4b58-a548-452dbf871665",
   "metadata": {
    "tags": []
   },
   "outputs": [],
   "source": [
    "# add = pd.DataFrame({'orgnr': ['test1', 'test2', 'test3'],\n",
    "#                     'orgnrbed': ['1tset', '2tset', '3tset']})\n",
    "\n",
    "# final = pd.concat([skolereg, add])"
   ]
  },
  {
   "cell_type": "code",
   "execution_count": null,
   "id": "6984a6e0-409a-40b3-9b64-e7720a68bff5",
   "metadata": {
    "tags": []
   },
   "outputs": [],
   "source": [
    "filename_out = \"testskolereg_g202310.parquet\"\n",
    "skolereg.to_parquet(path + filename_out)"
   ]
  },
  {
   "cell_type": "code",
   "execution_count": null,
   "id": "a76b148a-f53a-4336-aa61-f4c3d94a5e1b",
   "metadata": {},
   "outputs": [],
   "source": [
    "path"
   ]
  },
  {
   "cell_type": "code",
   "execution_count": null,
   "id": "c2f552c7-9a44-4537-a7d6-dbea9b56ab3b",
   "metadata": {},
   "outputs": [],
   "source": []
  }
 ],
 "metadata": {
  "language_info": {
   "codemirror_mode": {
    "name": "ipython"
   },
   "file_extension": ".py",
   "mimetype": "text/x-python",
   "name": "python",
   "nbconvert_exporter": "python"
  }
 },
 "nbformat": 4,
 "nbformat_minor": 5
}
