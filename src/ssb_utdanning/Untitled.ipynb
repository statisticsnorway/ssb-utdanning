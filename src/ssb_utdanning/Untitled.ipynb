{
 "cells": [
  {
   "cell_type": "code",
   "execution_count": null,
   "id": "9c190155-5f09-46eb-a2c5-ef04782cb07c",
   "metadata": {
    "tags": []
   },
   "outputs": [],
   "source": [
    "from ssb_utdanning.format.formats import get_format, info_stored_formats"
   ]
  },
  {
   "cell_type": "code",
   "execution_count": null,
   "id": "8ebaf5cd-e2f3-40ce-bf9a-19b5cd1eb93b",
   "metadata": {
    "tags": []
   },
   "outputs": [],
   "source": [
    "info_stored_formats()"
   ]
  },
  {
   "cell_type": "code",
   "execution_count": null,
   "id": "7e846de3-363a-46cf-a6c2-a1022acc3561",
   "metadata": {
    "tags": []
   },
   "outputs": [],
   "source": [
    "test = get_format('eierf')"
   ]
  },
  {
   "cell_type": "code",
   "execution_count": null,
   "id": "a85749cc-6918-4986-aa2b-411634fa7b8b",
   "metadata": {},
   "outputs": [],
   "source": []
  },
  {
   "cell_type": "code",
   "execution_count": null,
   "id": "659041d9-329d-4847-93ca-3d718ee39f94",
   "metadata": {
    "tags": []
   },
   "outputs": [],
   "source": [
    "test['10-15'] = 'stor'"
   ]
  },
  {
   "cell_type": "code",
   "execution_count": null,
   "id": "8778fd4f-2364-4ab0-b526-5ecc1b04d715",
   "metadata": {
    "tags": []
   },
   "outputs": [],
   "source": [
    "test['16-high'] = 'kjempestor'"
   ]
  },
  {
   "cell_type": "code",
   "execution_count": null,
   "id": "9a1dffb5-8925-44e4-8752-d301e0f1cfe9",
   "metadata": {
    "tags": []
   },
   "outputs": [],
   "source": [
    "test['1000']"
   ]
  },
  {
   "cell_type": "code",
   "execution_count": null,
   "id": "1b74b10b-1c78-4793-aa4b-7138873a3f19",
   "metadata": {
    "tags": []
   },
   "outputs": [],
   "source": [
    "import os, shutil"
   ]
  },
  {
   "cell_type": "code",
   "execution_count": null,
   "id": "bdacca75-e24e-4c17-9c00-11c32f71dc18",
   "metadata": {
    "tags": []
   },
   "outputs": [],
   "source": [
    "path = \"/ssb/stamme01/utd/utd-felles/formater/\""
   ]
  },
  {
   "cell_type": "code",
   "execution_count": null,
   "id": "00ecf6d3-8650-47ec-a081-6bf27b340d08",
   "metadata": {
    "tags": []
   },
   "outputs": [],
   "source": [
    "for file in os.listdir(path):\n",
    "    outpath = path + file.replace(\":\", \"-\")\n",
    "    print(outpath)\n",
    "    shutil.move(path+file, outpath)"
   ]
  },
  {
   "cell_type": "code",
   "execution_count": null,
   "id": "d311a8ef-60a8-4952-83a1-912a41a808d0",
   "metadata": {},
   "outputs": [],
   "source": []
  }
 ],
 "metadata": {
  "language_info": {
   "codemirror_mode": {
    "name": "ipython"
   },
   "file_extension": ".py",
   "mimetype": "text/x-python",
   "name": "python",
   "nbconvert_exporter": "python"
  }
 },
 "nbformat": 4,
 "nbformat_minor": 5
}
